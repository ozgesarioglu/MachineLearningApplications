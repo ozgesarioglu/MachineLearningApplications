{
 "cells": [
  {
   "cell_type": "markdown",
   "id": "839910e7",
   "metadata": {},
   "source": [
    "### Keras Hakkında"
   ]
  },
  {
   "cell_type": "markdown",
   "id": "f607c563",
   "metadata": {},
   "source": [
    "Keras, her tür derin öğrenme modelini tanımlamak  ve eğitmek icin Python'da kullanılan bir derin öğrenme kütüphanesidir.\n",
    "Keras, Tensorflow, Theano ve CNTK üzerinde  çalışabilen Python ile yazılmış bir üst düzey sinir ağları API'sidir. İçerdiği çok fazla işlevel fonksiyon sayesinde Keras kolayca bir derin öğrenme modeli oluşturmamızı ve onu eğitmemizi sağlamaktadır. Bu nedenle derin öğrenmeye yeni başlayanlara önerilen kütüphenelerin başında Keras gelmektedir. Yaklaşık 20.000 kullanıcıya sahip olan ve girişimci firmalardan dev şirketlere birçok kullanıcısı olan Keras; güçlü, basit ve işlevsel bir kütüphane olmasıyla dikkatleri üzerine çekmektedir.\n"
   ]
  },
  {
   "cell_type": "markdown",
   "id": "da88bcb3",
   "metadata": {},
   "source": [
    "Keras kütüphanesinin avantajları:"
   ]
  },
  {
   "cell_type": "markdown",
   "id": "bffe1419",
   "metadata": {},
   "source": [
    "* Kolay ve hızlı bir şekilde model oluşturmamıza olanak sağlar. Bu sayede yeni başlayanlar modellerde neleri değiştirince nasıl etki edeceğini deneme-yanılma yoluyla öğrenebilir. Modelleri CPU ve GPU'da sorunsuz bir şekilde çalıştırır. Bu sayede istediğimiz zaman işlemleri GPU'da yapıp zaman kazanabiliriz."
   ]
  },
  {
   "cell_type": "markdown",
   "id": "f485c3a5",
   "metadata": {},
   "source": [
    "* Bilgisayarlı görme modelleri için evrişimli sinir ağlarını(CNN), sürekli veriler için ise yinelemeli sinir ağlarını(RNN) destekler."
   ]
  },
  {
   "cell_type": "markdown",
   "id": "009ae0d0",
   "metadata": {},
   "source": [
    "* Kütüphaneyle ilgili çok fazla kaynağın ve bir topluluğun olması herhangi bir soru oluştuğunda cevabına hızlıca erişilmesini sağlar."
   ]
  },
  {
   "cell_type": "code",
   "execution_count": null,
   "id": "255cf6d8",
   "metadata": {},
   "outputs": [],
   "source": []
  }
 ],
 "metadata": {
  "kernelspec": {
   "display_name": "Python 3 (ipykernel)",
   "language": "python",
   "name": "python3"
  },
  "language_info": {
   "codemirror_mode": {
    "name": "ipython",
    "version": 3
   },
   "file_extension": ".py",
   "mimetype": "text/x-python",
   "name": "python",
   "nbconvert_exporter": "python",
   "pygments_lexer": "ipython3",
   "version": "3.9.7"
  }
 },
 "nbformat": 4,
 "nbformat_minor": 5
}
