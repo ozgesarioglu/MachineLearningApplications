{
 "cells": [
  {
   "cell_type": "markdown",
   "id": "c0c196e1",
   "metadata": {},
   "source": [
    "### Karar Ağaçları Algoritması Uygulaması"
   ]
  },
  {
   "cell_type": "markdown",
   "id": "7aad6b5b",
   "metadata": {},
   "source": [
    "Problem: Hava durumu veri setini ve karar ağaçları ID3 algoritmasını kullanarak hafta sonu balığa gidip gitmeme tahmini yapan karar kuralları oluşturmak"
   ]
  },
  {
   "cell_type": "code",
   "execution_count": 10,
   "id": "48fd551e",
   "metadata": {},
   "outputs": [
    {
     "data": {
      "text/html": [
       "<div>\n",
       "<style scoped>\n",
       "    .dataframe tbody tr th:only-of-type {\n",
       "        vertical-align: middle;\n",
       "    }\n",
       "\n",
       "    .dataframe tbody tr th {\n",
       "        vertical-align: top;\n",
       "    }\n",
       "\n",
       "    .dataframe thead th {\n",
       "        text-align: right;\n",
       "    }\n",
       "</style>\n",
       "<table border=\"1\" class=\"dataframe\">\n",
       "  <thead>\n",
       "    <tr style=\"text-align: right;\">\n",
       "      <th></th>\n",
       "      <th>Hava_Durumu</th>\n",
       "      <th>Sıcaklık</th>\n",
       "      <th>Nem</th>\n",
       "      <th>Rüzgar</th>\n",
       "      <th>Karar</th>\n",
       "    </tr>\n",
       "  </thead>\n",
       "  <tbody>\n",
       "    <tr>\n",
       "      <th>0</th>\n",
       "      <td>Güneşli</td>\n",
       "      <td>Sıcak</td>\n",
       "      <td>Yüksek</td>\n",
       "      <td>Zayıf</td>\n",
       "      <td>Hayır</td>\n",
       "    </tr>\n",
       "    <tr>\n",
       "      <th>1</th>\n",
       "      <td>Güneşli</td>\n",
       "      <td>Sıcak</td>\n",
       "      <td>Yüksek</td>\n",
       "      <td>Kuvvetli</td>\n",
       "      <td>Hayır</td>\n",
       "    </tr>\n",
       "    <tr>\n",
       "      <th>2</th>\n",
       "      <td>Bulutlu</td>\n",
       "      <td>Sıcak</td>\n",
       "      <td>Yüksek</td>\n",
       "      <td>Zayıf</td>\n",
       "      <td>Evet</td>\n",
       "    </tr>\n",
       "    <tr>\n",
       "      <th>3</th>\n",
       "      <td>Yağmurlu</td>\n",
       "      <td>Ilık</td>\n",
       "      <td>Yüksek</td>\n",
       "      <td>Zayıf</td>\n",
       "      <td>Evet</td>\n",
       "    </tr>\n",
       "    <tr>\n",
       "      <th>4</th>\n",
       "      <td>Yağmurlu</td>\n",
       "      <td>Soğuk</td>\n",
       "      <td>Normal</td>\n",
       "      <td>Zayıf</td>\n",
       "      <td>Evet</td>\n",
       "    </tr>\n",
       "    <tr>\n",
       "      <th>5</th>\n",
       "      <td>Yağmurlu</td>\n",
       "      <td>Soğuk</td>\n",
       "      <td>Normal</td>\n",
       "      <td>Kuvvetli</td>\n",
       "      <td>Hayır</td>\n",
       "    </tr>\n",
       "    <tr>\n",
       "      <th>6</th>\n",
       "      <td>Bulutlu</td>\n",
       "      <td>Soğuk</td>\n",
       "      <td>Normal</td>\n",
       "      <td>Kuvvetli</td>\n",
       "      <td>Evet</td>\n",
       "    </tr>\n",
       "    <tr>\n",
       "      <th>7</th>\n",
       "      <td>Güneşli</td>\n",
       "      <td>Ilık</td>\n",
       "      <td>Yüksek</td>\n",
       "      <td>Kuvvetli</td>\n",
       "      <td>Hayır</td>\n",
       "    </tr>\n",
       "    <tr>\n",
       "      <th>8</th>\n",
       "      <td>Güneşli</td>\n",
       "      <td>Soğuk</td>\n",
       "      <td>Normal</td>\n",
       "      <td>Zayıf</td>\n",
       "      <td>Evet</td>\n",
       "    </tr>\n",
       "    <tr>\n",
       "      <th>9</th>\n",
       "      <td>Yağmurlu</td>\n",
       "      <td>Ilık</td>\n",
       "      <td>Normal</td>\n",
       "      <td>Zayıf</td>\n",
       "      <td>Evet</td>\n",
       "    </tr>\n",
       "    <tr>\n",
       "      <th>10</th>\n",
       "      <td>Güneşli</td>\n",
       "      <td>Ilık</td>\n",
       "      <td>Normal</td>\n",
       "      <td>Kuvvetli</td>\n",
       "      <td>Evet</td>\n",
       "    </tr>\n",
       "    <tr>\n",
       "      <th>11</th>\n",
       "      <td>Bulutlu</td>\n",
       "      <td>Ilık</td>\n",
       "      <td>Yüksek</td>\n",
       "      <td>Kuvvetli</td>\n",
       "      <td>Evet</td>\n",
       "    </tr>\n",
       "    <tr>\n",
       "      <th>12</th>\n",
       "      <td>Bulutlu</td>\n",
       "      <td>Sıcak</td>\n",
       "      <td>Normal</td>\n",
       "      <td>Zayıf</td>\n",
       "      <td>Evet</td>\n",
       "    </tr>\n",
       "    <tr>\n",
       "      <th>13</th>\n",
       "      <td>Yağmurlu</td>\n",
       "      <td>Ilık</td>\n",
       "      <td>Yüksek</td>\n",
       "      <td>Kuvvetli</td>\n",
       "      <td>Hayır</td>\n",
       "    </tr>\n",
       "  </tbody>\n",
       "</table>\n",
       "</div>"
      ],
      "text/plain": [
       "   Hava_Durumu Sıcaklık     Nem    Rüzgar  Karar\n",
       "0      Güneşli    Sıcak  Yüksek     Zayıf  Hayır\n",
       "1      Güneşli    Sıcak  Yüksek  Kuvvetli  Hayır\n",
       "2      Bulutlu    Sıcak  Yüksek     Zayıf   Evet\n",
       "3     Yağmurlu     Ilık  Yüksek     Zayıf   Evet\n",
       "4     Yağmurlu    Soğuk  Normal     Zayıf   Evet\n",
       "5     Yağmurlu    Soğuk  Normal  Kuvvetli  Hayır\n",
       "6      Bulutlu    Soğuk  Normal  Kuvvetli   Evet\n",
       "7      Güneşli     Ilık  Yüksek  Kuvvetli  Hayır\n",
       "8      Güneşli    Soğuk  Normal     Zayıf   Evet\n",
       "9     Yağmurlu     Ilık  Normal     Zayıf   Evet\n",
       "10     Güneşli     Ilık  Normal  Kuvvetli   Evet\n",
       "11     Bulutlu     Ilık  Yüksek  Kuvvetli   Evet\n",
       "12     Bulutlu    Sıcak  Normal     Zayıf   Evet\n",
       "13    Yağmurlu     Ilık  Yüksek  Kuvvetli  Hayır"
      ]
     },
     "execution_count": 10,
     "metadata": {},
     "output_type": "execute_result"
    }
   ],
   "source": [
    "import pandas as pd\n",
    "import numpy as np\n",
    "df = pd.DataFrame()\n",
    "df[\"Hava_Durumu\"] = [\n",
    "    \"Güneşli\",\"Güneşli\",\"Bulutlu\",\"Yağmurlu\",\"Yağmurlu\",\"Yağmurlu\",\"Bulutlu\",\n",
    "    \"Güneşli\",\"Güneşli\",\"Yağmurlu\",\"Güneşli\",\"Bulutlu\",\"Bulutlu\",\"Yağmurlu\"\n",
    "]\n",
    "df[\"Sıcaklık\"] = [\n",
    "    \"Sıcak\",\"Sıcak\",\"Sıcak\",\"Ilık\",\"Soğuk\",\"Soğuk\",\"Soğuk\",\n",
    "    \"Ilık\",\"Soğuk\",\"Ilık\",\"Ilık\",\"Ilık\",\"Sıcak\",\"Ilık\"\n",
    "]\n",
    "df[\"Nem\"] = [\n",
    "    \"Yüksek\",\"Yüksek\",\"Yüksek\",\"Yüksek\",\"Normal\",\"Normal\",\"Normal\",\n",
    "    \"Yüksek\",\"Normal\",\"Normal\",\"Normal\",\"Yüksek\",\"Normal\",\"Yüksek\"\n",
    "]\n",
    "df[\"Rüzgar\"] = [\n",
    "    \"Zayıf\",\"Kuvvetli\",\"Zayıf\",\"Zayıf\",\"Zayıf\",\"Kuvvetli\",\"Kuvvetli\",\n",
    "    \"Kuvvetli\",\"Zayıf\",\"Zayıf\",\"Kuvvetli\",\"Kuvvetli\",\"Zayıf\",\"Kuvvetli\"\n",
    "]\n",
    "df[\"Karar\"] = [\n",
    "    \"Hayır\",\"Hayır\",\"Evet\",\"Evet\",\"Evet\",\"Hayır\",\"Evet\",\"Hayır\",\"Evet\",\n",
    "    \"Evet\",\"Evet\",\"Evet\",\"Evet\",\"Hayır\"\n",
    "]\n",
    "\n",
    "df"
   ]
  },
  {
   "cell_type": "markdown",
   "id": "e61442fd",
   "metadata": {},
   "source": [
    "** Veri seti küçük olduğundan eğitim ve test verisi olarak ayrım yapılmadan  tüm veri eğitim verisi olarak kullanılacaktır.\n"
   ]
  },
  {
   "cell_type": "markdown",
   "id": "1a833722",
   "metadata": {},
   "source": [
    "1.adım: Karar hedef değişkeni için entropi değeri hesaplanır.(Not: ID3 algoritması, entropiden faydalanarak sınıflandırma probleminin çözülmesini sağlar)"
   ]
  },
  {
   "cell_type": "code",
   "execution_count": 11,
   "id": "aecea4cc",
   "metadata": {},
   "outputs": [
    {
     "name": "stdout",
     "output_type": "stream",
     "text": [
      "H(S) = 0.9403\n"
     ]
    }
   ],
   "source": [
    "# Evet olasılığını hesaplama\n",
    "p_evet = len(df.loc[df.Karar == \"Evet\"]) / len(df)\n",
    "\n",
    "# Hayır olasılığını hesaplama\n",
    "p_hayir = len(df.loc[df.Karar == \"Hayır\"]) / len(df)\n",
    "\n",
    "#entropi değeri\n",
    "entropi_karar = -p_hayir*np.log2(p_hayir) - p_evet*np.log2(p_evet)\n",
    "print(f'H(S) = {entropi_karar:0.4f}')"
   ]
  },
  {
   "cell_type": "code",
   "execution_count": 12,
   "id": "4f03bd58",
   "metadata": {},
   "outputs": [],
   "source": [
    "# Bir entropi karar fonksiyonuna dönüştürmek için aşağıdaki kodlarla tekrar edilir."
   ]
  },
  {
   "cell_type": "code",
   "execution_count": 13,
   "id": "eb689ff1",
   "metadata": {},
   "outputs": [],
   "source": [
    "def f_entropi_karar(data):\n",
    "    p_evet = len(data.loc[data.Karar == \"Evet\"]) / len(data)  \n",
    "    p_hayir = len(data.loc[data.Karar == \"Hayır\"]) / len(data)\n",
    "    return - p_hayir*np.log2(p_hayir) - p_evet*np.log2(p_evet)"
   ]
  },
  {
   "cell_type": "markdown",
   "id": "b9728aac",
   "metadata": {},
   "source": [
    "2.adım: Hangi özniteliğpin hava durumu, sıcaklık,nem ve rüzgardan en yüksek \n",
    "bilgi kazancını sağladığını hesaplamaktır."
   ]
  },
  {
   "cell_type": "code",
   "execution_count": 14,
   "id": "2cd3bf93",
   "metadata": {},
   "outputs": [
    {
     "name": "stdout",
     "output_type": "stream",
     "text": [
      "p(Karar=Evet|Hava_Durumu = Bulutlu) = 4 / 4\n",
      "p(Karar=Hayır|Hava_Durumu = Bulutlu) = 4 / 4\n",
      "p(Karar|Hava_Durumu =Bulutlu) = 4 / 14\n",
      "Entropi(Karar|Hava_Durumu = Bulutlu) = -4/4.log2(4/4) - 4/4.log2(4/4)\n",
      "p(Karar=Evet|Hava_Durumu = Güneşli) = 2 / 5\n",
      "p(Karar=Hayır|Hava_Durumu = Güneşli) = 2 / 5\n",
      "p(Karar|Hava_Durumu =Güneşli) = 5 / 14\n",
      "Entropi(Karar|Hava_Durumu = Güneşli) = -2/5.log2(2/5) - 2/5.log2(2/5)\n",
      "p(Karar=Evet|Hava_Durumu = Yağmurlu) = 3 / 5\n",
      "p(Karar=Hayır|Hava_Durumu = Yağmurlu) = 3 / 5\n",
      "p(Karar|Hava_Durumu =Yağmurlu) = 5 / 14\n",
      "Entropi(Karar|Hava_Durumu = Yağmurlu) = -3/5.log2(3/5) - 3/5.log2(3/5)\n"
     ]
    }
   ],
   "source": [
    "Bilgi_kazanci_Karar_Hava_Durumu = entropi_karar # Yani H(S)\n",
    "# Toplantı yazdırmak için bir string oluşturma\n",
    "toplam = \"Kazanç(Karar, Hava_Durumu) = Entropi(Karar)\"\n",
    "\n",
    "# Hava durumu değerleri için iteratif işlemlerle entropi ve olasılıkları hesaplama\n",
    "for isim, Hava_Durumu in df.groupby(\"Hava_Durumu\"):\n",
    "    sayi_evet  = len(Hava_Durumu.loc[Hava_Durumu.Karar == \"Evet\"])   \n",
    "    sayi_hayir = len(Hava_Durumu.loc[Hava_Durumu.Karar != \"Hayır\"])\n",
    "    sayi_Hava_Durumu = len(Hava_Durumu)\n",
    "    \n",
    "    print(f'p(Karar=Evet|Hava_Durumu = {isim}) = {sayi_evet} / {sayi_Hava_Durumu}')\n",
    "    print(f'p(Karar=Hayır|Hava_Durumu = {isim}) = {sayi_hayir} / {sayi_Hava_Durumu}') \n",
    "    print(f'p(Karar|Hava_Durumu ={isim}) = {sayi_Hava_Durumu} / {len(df)}')\n",
    "    print(f'Entropi(Karar|Hava_Durumu = {isim}) = ' \\\n",
    "          f'-{sayi_evet}/{sayi_Hava_Durumu}.log2({sayi_evet}/{sayi_Hava_Durumu}) - '\\\n",
    "          f'{sayi_hayir}/{sayi_Hava_Durumu}.log2({sayi_hayir}/{sayi_Hava_Durumu})')\n",
    "    entropi_Karar_Hava_Durumu = 0    "
   ]
  },
  {
   "cell_type": "code",
   "execution_count": 15,
   "id": "cb42336f",
   "metadata": {},
   "outputs": [
    {
     "name": "stdout",
     "output_type": "stream",
     "text": [
      "\n",
      "Kazanç(Karar, Hava_Durumu) = Entropi(Karar) - p(Karar|Hava_Durumu = Yağmurlu)Entropi(Karar|Hava_Durumu = Yağmurlu)\n",
      "Kazanç(Karar, Hava_Durumu) = 0.6244\n"
     ]
    }
   ],
   "source": [
    "# Sıfırın Logaritması Alınamadığı Durumlar İçin\n",
    "if sayi_evet != 0:\n",
    "    entropi_Karar_Hava_Durumu -= (sayi_evet / sayi_Hava_Durumu) \\\n",
    "    * np.log2(sayi_evet/sayi_Hava_Durumu) \n",
    "if sayi_hayir != 0:    \n",
    "    entropi_Karar_Hava_Durumu -= (sayi_hayir / sayi_Hava_Durumu) \\\n",
    "    * np.log2(sayi_hayir/sayi_Hava_Durumu) \n",
    "    \n",
    "Bilgi_kazanci_Karar_Hava_Durumu -= (sayi_Hava_Durumu / len(df)) * entropi_Karar_Hava_Durumu\n",
    "print()\n",
    "toplam += f' - p(Karar|Hava_Durumu = {isim})'\n",
    "toplam += f'Entropi(Karar|Hava_Durumu = {isim})'\n",
    "print(toplam)\n",
    "print(f'Kazanç(Karar, Hava_Durumu) = {Bilgi_kazanci_Karar_Hava_Durumu:0.4f}')"
   ]
  },
  {
   "cell_type": "code",
   "execution_count": null,
   "id": "c52d5d4d",
   "metadata": {},
   "outputs": [],
   "source": []
  },
  {
   "cell_type": "markdown",
   "id": "372f26ab",
   "metadata": {},
   "source": [
    "3.Adım: Yukarıdaki işlemi birkaç kez tekrarlayarak bir fonksiyon haline getirilmesi gerekir."
   ]
  },
  {
   "cell_type": "code",
   "execution_count": 16,
   "id": "9c82a043",
   "metadata": {},
   "outputs": [],
   "source": [
    "def BK(data, column, ent_Karar = entropi_karar):\n",
    "    BK_Karar = ent_Karar\n",
    "    for isim,temp in data.groupby(column):\n",
    "        p_evet = len(temp.loc[temp.Karar == \"Evet\"]) / len(temp)\n",
    "        p_hayir = len(temp.loc[temp.Karar != 'Evet']) / len(temp)\n",
    "        entropi_karar = 0\n",
    "        if p_evet != 0:\n",
    "            entropi_karar -= (p_evet) * np.log2(p_evet)\n",
    "        if p_hayir != 0:\n",
    "            entropi_karar -= (p_hayir) * np.log2(p_hayir)\n",
    "        BK_Karar -= (len(temp) / len(df)) * entropi_karar\n",
    "    return BK_Karar"
   ]
  },
  {
   "cell_type": "code",
   "execution_count": null,
   "id": "2aa005c7",
   "metadata": {},
   "outputs": [],
   "source": []
  },
  {
   "cell_type": "markdown",
   "id": "0811b340",
   "metadata": {},
   "source": [
    "4.Adım: Her bir özniteliğin bilgi kazancını hesaplamak için aşağıdaki kod kullanılır."
   ]
  },
  {
   "cell_type": "code",
   "execution_count": 17,
   "id": "aae0d6a1",
   "metadata": {},
   "outputs": [
    {
     "name": "stdout",
     "output_type": "stream",
     "text": [
      "Kazanç(Karar,Hava_Durumu) = 0.2467\n",
      "Kazanç(Karar,Sıcaklık) = 0.0292\n",
      "Kazanç(Karar,Nem) = 0.1518\n",
      "Kazanç(Karar,Rüzgar) = 0.1518\n"
     ]
    }
   ],
   "source": [
    "for col in df.columns[:-1]:\n",
    "    print(f'Kazanç(Karar,{col}) = {BK(df, col):0.4f}')\n",
    "\n"
   ]
  },
  {
   "cell_type": "markdown",
   "id": "a562d0a2",
   "metadata": {},
   "source": [
    "5.Adım: Sonuç kararı için ilk kararın verilmesini sağlar. Kök olarak en yüksek bilgi kazancını veren hava durumu üzerine veriyi bölelim."
   ]
  },
  {
   "cell_type": "code",
   "execution_count": 166,
   "id": "9b19e7de",
   "metadata": {},
   "outputs": [
    {
     "name": "stdout",
     "output_type": "stream",
     "text": [
      "---------------\n",
      "Bulutlu\n",
      "---------------\n",
      "   Hava_Durumu Sıcaklık     Nem    Rüzgar Karar\n",
      "2      Bulutlu    Sıcak  Yüksek     Zayıf  Evet\n",
      "6      Bulutlu    Soğuk  Normal  Kuvvetli  Evet\n",
      "11     Bulutlu     Ilık  Yüksek  Kuvvetli  Evet\n",
      "12     Bulutlu    Sıcak  Normal     Zayıf  Evet\n",
      "---------------\n",
      "---------------\n",
      "Güneşli\n",
      "---------------\n",
      "   Hava_Durumu Sıcaklık     Nem    Rüzgar  Karar\n",
      "0      Güneşli    Sıcak  Yüksek     Zayıf  Hayır\n",
      "1      Güneşli    Sıcak  Yüksek  Kuvvetli  Hayır\n",
      "7      Güneşli     Ilık  Yüksek  Kuvvetli  Hayır\n",
      "8      Güneşli    Soğuk  Normal     Zayıf   Evet\n",
      "10     Güneşli     Ilık  Normal  Kuvvetli   Evet\n",
      "---------------\n",
      "---------------\n",
      "Yağmurlu\n",
      "---------------\n",
      "   Hava_Durumu Sıcaklık     Nem    Rüzgar  Karar\n",
      "3     Yağmurlu     Ilık  Yüksek     Zayıf   Evet\n",
      "4     Yağmurlu    Soğuk  Normal     Zayıf   Evet\n",
      "5     Yağmurlu    Soğuk  Normal  Kuvvetli  Hayır\n",
      "9     Yağmurlu     Ilık  Normal     Zayıf   Evet\n",
      "13    Yağmurlu     Ilık  Yüksek  Kuvvetli  Hayır\n",
      "---------------\n"
     ]
    }
   ],
   "source": [
    "for isim, temp in df.groupby(\"Hava_Durumu\"):\n",
    "    print(\"-\"*15)\n",
    "    print(isim)\n",
    "    print(\"-\"*15)\n",
    "    print(temp)\n",
    "    print(\"-\"*15)"
   ]
  },
  {
   "cell_type": "markdown",
   "id": "1aa40a15",
   "metadata": {},
   "source": [
    "Tüm bulutlu olanların kararına baktığımızda \"Evet\" kararına sahip olduğunu görürüz. Bu, karar ağacının ilk sonlandırma yaprağımızı sağlar.  Eğer bulutlu ise o zaman balığa gideceğiz ve eğer yağmurlu veya güneşli ise o zaman gitmeme durumu da söz konusudur. "
   ]
  },
  {
   "cell_type": "code",
   "execution_count": null,
   "id": "89b83e65",
   "metadata": {},
   "outputs": [],
   "source": []
  },
  {
   "cell_type": "markdown",
   "id": "bcb08c42",
   "metadata": {},
   "source": [
    "6.Adım: İşlemei tekrarlayalım. Tüm veriler tahsis edilene ve ağacın tüm dalları sona erene kadar bilgi kazancına bölüyoruz. İlk olarak, artık herhangi bir ek bilgi sağlamadıkları için bulutlu örnekleri çıkaralım."
   ]
  },
  {
   "cell_type": "code",
   "execution_count": 18,
   "id": "996e604c",
   "metadata": {},
   "outputs": [
    {
     "data": {
      "text/html": [
       "<div>\n",
       "<style scoped>\n",
       "    .dataframe tbody tr th:only-of-type {\n",
       "        vertical-align: middle;\n",
       "    }\n",
       "\n",
       "    .dataframe tbody tr th {\n",
       "        vertical-align: top;\n",
       "    }\n",
       "\n",
       "    .dataframe thead th {\n",
       "        text-align: right;\n",
       "    }\n",
       "</style>\n",
       "<table border=\"1\" class=\"dataframe\">\n",
       "  <thead>\n",
       "    <tr style=\"text-align: right;\">\n",
       "      <th></th>\n",
       "      <th>Hava_Durumu</th>\n",
       "      <th>Sıcaklık</th>\n",
       "      <th>Nem</th>\n",
       "      <th>Rüzgar</th>\n",
       "      <th>Karar</th>\n",
       "    </tr>\n",
       "  </thead>\n",
       "  <tbody>\n",
       "    <tr>\n",
       "      <th>0</th>\n",
       "      <td>Güneşli</td>\n",
       "      <td>Sıcak</td>\n",
       "      <td>Yüksek</td>\n",
       "      <td>Zayıf</td>\n",
       "      <td>Hayır</td>\n",
       "    </tr>\n",
       "    <tr>\n",
       "      <th>1</th>\n",
       "      <td>Güneşli</td>\n",
       "      <td>Sıcak</td>\n",
       "      <td>Yüksek</td>\n",
       "      <td>Kuvvetli</td>\n",
       "      <td>Hayır</td>\n",
       "    </tr>\n",
       "    <tr>\n",
       "      <th>3</th>\n",
       "      <td>Yağmurlu</td>\n",
       "      <td>Ilık</td>\n",
       "      <td>Yüksek</td>\n",
       "      <td>Zayıf</td>\n",
       "      <td>Evet</td>\n",
       "    </tr>\n",
       "    <tr>\n",
       "      <th>4</th>\n",
       "      <td>Yağmurlu</td>\n",
       "      <td>Soğuk</td>\n",
       "      <td>Normal</td>\n",
       "      <td>Zayıf</td>\n",
       "      <td>Evet</td>\n",
       "    </tr>\n",
       "    <tr>\n",
       "      <th>5</th>\n",
       "      <td>Yağmurlu</td>\n",
       "      <td>Soğuk</td>\n",
       "      <td>Normal</td>\n",
       "      <td>Kuvvetli</td>\n",
       "      <td>Hayır</td>\n",
       "    </tr>\n",
       "    <tr>\n",
       "      <th>7</th>\n",
       "      <td>Güneşli</td>\n",
       "      <td>Ilık</td>\n",
       "      <td>Yüksek</td>\n",
       "      <td>Kuvvetli</td>\n",
       "      <td>Hayır</td>\n",
       "    </tr>\n",
       "    <tr>\n",
       "      <th>8</th>\n",
       "      <td>Güneşli</td>\n",
       "      <td>Soğuk</td>\n",
       "      <td>Normal</td>\n",
       "      <td>Zayıf</td>\n",
       "      <td>Evet</td>\n",
       "    </tr>\n",
       "    <tr>\n",
       "      <th>9</th>\n",
       "      <td>Yağmurlu</td>\n",
       "      <td>Ilık</td>\n",
       "      <td>Normal</td>\n",
       "      <td>Zayıf</td>\n",
       "      <td>Evet</td>\n",
       "    </tr>\n",
       "    <tr>\n",
       "      <th>10</th>\n",
       "      <td>Güneşli</td>\n",
       "      <td>Ilık</td>\n",
       "      <td>Normal</td>\n",
       "      <td>Kuvvetli</td>\n",
       "      <td>Evet</td>\n",
       "    </tr>\n",
       "    <tr>\n",
       "      <th>13</th>\n",
       "      <td>Yağmurlu</td>\n",
       "      <td>Ilık</td>\n",
       "      <td>Yüksek</td>\n",
       "      <td>Kuvvetli</td>\n",
       "      <td>Hayır</td>\n",
       "    </tr>\n",
       "  </tbody>\n",
       "</table>\n",
       "</div>"
      ],
      "text/plain": [
       "   Hava_Durumu Sıcaklık     Nem    Rüzgar  Karar\n",
       "0      Güneşli    Sıcak  Yüksek     Zayıf  Hayır\n",
       "1      Güneşli    Sıcak  Yüksek  Kuvvetli  Hayır\n",
       "3     Yağmurlu     Ilık  Yüksek     Zayıf   Evet\n",
       "4     Yağmurlu    Soğuk  Normal     Zayıf   Evet\n",
       "5     Yağmurlu    Soğuk  Normal  Kuvvetli  Hayır\n",
       "7      Güneşli     Ilık  Yüksek  Kuvvetli  Hayır\n",
       "8      Güneşli    Soğuk  Normal     Zayıf   Evet\n",
       "9     Yağmurlu     Ilık  Normal     Zayıf   Evet\n",
       "10     Güneşli     Ilık  Normal  Kuvvetli   Evet\n",
       "13    Yağmurlu     Ilık  Yüksek  Kuvvetli  Hayır"
      ]
     },
     "execution_count": 18,
     "metadata": {},
     "output_type": "execute_result"
    }
   ],
   "source": [
    "df_yeni = df.loc[df.Hava_Durumu != \"Bulutlu\"]\n",
    "df_yeni"
   ]
  },
  {
   "cell_type": "code",
   "execution_count": null,
   "id": "71792c49",
   "metadata": {},
   "outputs": [],
   "source": []
  },
  {
   "cell_type": "markdown",
   "id": "8e8725f8",
   "metadata": {},
   "source": [
    "7.Adım: Güneşli verilere bakalım. Güneşli bilgileri bölmenin en iyi yolunu belirlemek için kazanç hesaplamalarını yeniden başlatalım."
   ]
  },
  {
   "cell_type": "code",
   "execution_count": 19,
   "id": "efebd733",
   "metadata": {},
   "outputs": [
    {
     "data": {
      "text/html": [
       "<div>\n",
       "<style scoped>\n",
       "    .dataframe tbody tr th:only-of-type {\n",
       "        vertical-align: middle;\n",
       "    }\n",
       "\n",
       "    .dataframe tbody tr th {\n",
       "        vertical-align: top;\n",
       "    }\n",
       "\n",
       "    .dataframe thead th {\n",
       "        text-align: right;\n",
       "    }\n",
       "</style>\n",
       "<table border=\"1\" class=\"dataframe\">\n",
       "  <thead>\n",
       "    <tr style=\"text-align: right;\">\n",
       "      <th></th>\n",
       "      <th>Hava_Durumu</th>\n",
       "      <th>Sıcaklık</th>\n",
       "      <th>Nem</th>\n",
       "      <th>Rüzgar</th>\n",
       "      <th>Karar</th>\n",
       "    </tr>\n",
       "  </thead>\n",
       "  <tbody>\n",
       "    <tr>\n",
       "      <th>0</th>\n",
       "      <td>Güneşli</td>\n",
       "      <td>Sıcak</td>\n",
       "      <td>Yüksek</td>\n",
       "      <td>Zayıf</td>\n",
       "      <td>Hayır</td>\n",
       "    </tr>\n",
       "    <tr>\n",
       "      <th>1</th>\n",
       "      <td>Güneşli</td>\n",
       "      <td>Sıcak</td>\n",
       "      <td>Yüksek</td>\n",
       "      <td>Kuvvetli</td>\n",
       "      <td>Hayır</td>\n",
       "    </tr>\n",
       "    <tr>\n",
       "      <th>7</th>\n",
       "      <td>Güneşli</td>\n",
       "      <td>Ilık</td>\n",
       "      <td>Yüksek</td>\n",
       "      <td>Kuvvetli</td>\n",
       "      <td>Hayır</td>\n",
       "    </tr>\n",
       "    <tr>\n",
       "      <th>8</th>\n",
       "      <td>Güneşli</td>\n",
       "      <td>Soğuk</td>\n",
       "      <td>Normal</td>\n",
       "      <td>Zayıf</td>\n",
       "      <td>Evet</td>\n",
       "    </tr>\n",
       "    <tr>\n",
       "      <th>10</th>\n",
       "      <td>Güneşli</td>\n",
       "      <td>Ilık</td>\n",
       "      <td>Normal</td>\n",
       "      <td>Kuvvetli</td>\n",
       "      <td>Evet</td>\n",
       "    </tr>\n",
       "  </tbody>\n",
       "</table>\n",
       "</div>"
      ],
      "text/plain": [
       "   Hava_Durumu Sıcaklık     Nem    Rüzgar  Karar\n",
       "0      Güneşli    Sıcak  Yüksek     Zayıf  Hayır\n",
       "1      Güneşli    Sıcak  Yüksek  Kuvvetli  Hayır\n",
       "7      Güneşli     Ilık  Yüksek  Kuvvetli  Hayır\n",
       "8      Güneşli    Soğuk  Normal     Zayıf   Evet\n",
       "10     Güneşli     Ilık  Normal  Kuvvetli   Evet"
      ]
     },
     "execution_count": 19,
     "metadata": {},
     "output_type": "execute_result"
    }
   ],
   "source": [
    "df_gunesli = df_yeni.loc[df.Hava_Durumu == \"Güneşli\"]\n",
    "df_gunesli  "
   ]
  },
  {
   "cell_type": "code",
   "execution_count": null,
   "id": "ebddc73d",
   "metadata": {},
   "outputs": [],
   "source": []
  },
  {
   "cell_type": "markdown",
   "id": "66505762",
   "metadata": {},
   "source": [
    "8.Adım: Güneşli örnekler için aşağıdaki kodla entropiyi tekrar hesaplarsak;"
   ]
  },
  {
   "cell_type": "code",
   "execution_count": 20,
   "id": "1a8a051b",
   "metadata": {},
   "outputs": [
    {
     "data": {
      "text/plain": [
       "0.9709505944546686"
      ]
     },
     "execution_count": 20,
     "metadata": {},
     "output_type": "execute_result"
    }
   ],
   "source": [
    "entropi_karar = f_entropi_karar(df_gunesli)\n",
    "entropi_karar"
   ]
  },
  {
   "cell_type": "code",
   "execution_count": null,
   "id": "87424216",
   "metadata": {},
   "outputs": [],
   "source": []
  },
  {
   "cell_type": "markdown",
   "id": "1cae58cf",
   "metadata": {},
   "source": [
    "9.Adım:  Güneşli örnkeler için kazanç tekrar hesaplanması için aşağıdaki kod çalıştırılır."
   ]
  },
  {
   "cell_type": "code",
   "execution_count": 21,
   "id": "ca83f209",
   "metadata": {},
   "outputs": [
    {
     "name": "stdout",
     "output_type": "stream",
     "text": [
      "Kazanc(Karar,Sıcaklık) = 0.8281\n",
      "Kazanc(Karar,Nem) = 0.9710\n",
      "Kazanc(Karar,Rüzgar) = 0.6313\n"
     ]
    }
   ],
   "source": [
    "for col in df_gunesli.columns[1:-1]:\n",
    "    print(f'Kazanc(Karar,{col}) = {BK(df_gunesli, col, entropi_karar):0.4f}')"
   ]
  },
  {
   "cell_type": "code",
   "execution_count": null,
   "id": "e6c68614",
   "metadata": {},
   "outputs": [],
   "source": []
  },
  {
   "cell_type": "markdown",
   "id": "87fa0641",
   "metadata": {},
   "source": [
    "10.Adım: En yüksek kazanç nem olduğu için şimdi veriyi nem özniteliğine göre gruplandırılır."
   ]
  },
  {
   "cell_type": "code",
   "execution_count": 22,
   "id": "bef1bf4c",
   "metadata": {},
   "outputs": [
    {
     "name": "stdout",
     "output_type": "stream",
     "text": [
      "---------------\n",
      "Normal\n",
      "---------------\n",
      "   Hava_Durumu Sıcaklık     Nem    Rüzgar Karar\n",
      "8      Güneşli    Soğuk  Normal     Zayıf  Evet\n",
      "10     Güneşli     Ilık  Normal  Kuvvetli  Evet\n",
      "---------------\n",
      "---------------\n",
      "Yüksek\n",
      "---------------\n",
      "  Hava_Durumu Sıcaklık     Nem    Rüzgar  Karar\n",
      "0     Güneşli    Sıcak  Yüksek     Zayıf  Hayır\n",
      "1     Güneşli    Sıcak  Yüksek  Kuvvetli  Hayır\n",
      "7     Güneşli     Ilık  Yüksek  Kuvvetli  Hayır\n",
      "---------------\n"
     ]
    }
   ],
   "source": [
    "for isim, temp in df_gunesli.groupby(\"Nem\"):\n",
    "    print(\"-\"*15)\n",
    "    print(isim)\n",
    "    print(\"-\"*15)\n",
    "    print(temp)\n",
    "    print(\"-\"*15)\n",
    "    "
   ]
  },
  {
   "cell_type": "markdown",
   "id": "dd650723",
   "metadata": {},
   "source": [
    "Yorum: Burada nem hem yüksek olduğunda(karar=hayır) hem de normal olduğunda tek karar seçeneği olduğundan iki sonlandırma yaprağı söz konusudur. Nem yüksek olduğu durumlarda tüm kararlar \"Hayır\"dır."
   ]
  },
  {
   "cell_type": "code",
   "execution_count": null,
   "id": "d8798ba3",
   "metadata": {},
   "outputs": [],
   "source": []
  },
  {
   "cell_type": "markdown",
   "id": "c673e857",
   "metadata": {},
   "source": [
    "11.Adım: Sınıflandırma gerektiren son veri kümesi yağmurlu hava durumu verileridir. Sadece yağmurlu verilerini ayıklayalım ve entropi hesaplamasını yeniden çalıştıralım."
   ]
  },
  {
   "cell_type": "code",
   "execution_count": 23,
   "id": "fd67c2f8",
   "metadata": {},
   "outputs": [
    {
     "data": {
      "text/plain": [
       "0.9709505944546686"
      ]
     },
     "execution_count": 23,
     "metadata": {},
     "output_type": "execute_result"
    }
   ],
   "source": [
    "df_yagmurlu = df_yeni.loc[df.Hava_Durumu == \"Yağmurlu\"]\n",
    "entropi_karar =f_entropi_karar(df_yagmurlu)\n",
    "entropi_karar"
   ]
  },
  {
   "cell_type": "code",
   "execution_count": null,
   "id": "e92c5005",
   "metadata": {},
   "outputs": [],
   "source": []
  },
  {
   "cell_type": "markdown",
   "id": "aa65b68a",
   "metadata": {},
   "source": [
    "12.Adım: Yağmurlu alt kümesi için kazançlar tekrar hesaplanarak"
   ]
  },
  {
   "cell_type": "code",
   "execution_count": 24,
   "id": "a4c1dfd1",
   "metadata": {},
   "outputs": [
    {
     "name": "stdout",
     "output_type": "stream",
     "text": [
      "Kazanc(Karar,Sıcaklık) = 0.6313\n",
      "Kazanc(Karar,Nem) = 0.6313\n",
      "Kazanc(Karar,Rüzgar) = 0.9710\n"
     ]
    }
   ],
   "source": [
    "for col in df_yagmurlu.columns[1:-1]:\n",
    "    print(f'Kazanc(Karar,{col}) = {BK(df_yagmurlu, col, entropi_karar):0.4f}')"
   ]
  },
  {
   "cell_type": "code",
   "execution_count": null,
   "id": "599b2190",
   "metadata": {},
   "outputs": [],
   "source": []
  },
  {
   "cell_type": "markdown",
   "id": "3247a44b",
   "metadata": {},
   "source": [
    "13.Adım: En yüksek bilgi kazancı Rüzgar özniteliği çıktığından rüzgar özniteliğine göre kalan bilgi gruplandırılır."
   ]
  },
  {
   "cell_type": "code",
   "execution_count": 25,
   "id": "6455cf62",
   "metadata": {},
   "outputs": [
    {
     "name": "stdout",
     "output_type": "stream",
     "text": [
      "---------------\n",
      "Kuvvetli\n",
      "---------------\n",
      "   Hava_Durumu Sıcaklık     Nem    Rüzgar  Karar\n",
      "5     Yağmurlu    Soğuk  Normal  Kuvvetli  Hayır\n",
      "13    Yağmurlu     Ilık  Yüksek  Kuvvetli  Hayır\n",
      "---------------\n",
      "---------------\n",
      "Zayıf\n",
      "---------------\n",
      "  Hava_Durumu Sıcaklık     Nem Rüzgar Karar\n",
      "3    Yağmurlu     Ilık  Yüksek  Zayıf  Evet\n",
      "4    Yağmurlu    Soğuk  Normal  Zayıf  Evet\n",
      "9    Yağmurlu     Ilık  Normal  Zayıf  Evet\n",
      "---------------\n"
     ]
    }
   ],
   "source": [
    "for isim, temp in df_yagmurlu.groupby(\"Rüzgar\"):\n",
    "    print(\"-\"*15)\n",
    "    print(isim)\n",
    "    print(\"-\"*15)\n",
    "    print(temp)\n",
    "    print(\"-\"*15) "
   ]
  },
  {
   "cell_type": "raw",
   "id": "1cf3936b",
   "metadata": {},
   "source": [
    " Sonuç olarak ağacı tamamlamak için gereken tüm sonlandırma yapraklarına sahibiz. Çünkü rüzgar bölmesi, hepsi evet veya hayır değerlerini gösteren iki set vermektedir.\n",
    "\n",
    "Karar Ağacı ise\n",
    "\n",
    "            Hava Durumu \n",
    "\n",
    "1) Bulutlu => Evet\n",
    "\n",
    "2) Güneşli => Nem -> 1-Normal => Evet\n",
    "                 |_> 2-Yüksek => Hayır\n",
    "                 \n",
    "3) Yağmurlu => Rüzgar ->1-Zayıf  => Evet\n",
    "                     |_>2- Kuvvetli => Hayır\n",
    "                     \n",
    "Örneğin gelecek hafta için hava tahmininde havanın yağmurlu, sıcaklığın ılık, nemin normal ve rüzgarın kuvvetli olduğu söyleniyor ise karar ağacını takip ederek kararın hayır olacağı söylenebilir."
   ]
  },
  {
   "cell_type": "code",
   "execution_count": null,
   "id": "0635ba04",
   "metadata": {},
   "outputs": [],
   "source": []
  }
 ],
 "metadata": {
  "kernelspec": {
   "display_name": "Python 3 (ipykernel)",
   "language": "python",
   "name": "python3"
  },
  "language_info": {
   "codemirror_mode": {
    "name": "ipython",
    "version": 3
   },
   "file_extension": ".py",
   "mimetype": "text/x-python",
   "name": "python",
   "nbconvert_exporter": "python",
   "pygments_lexer": "ipython3",
   "version": "3.9.7"
  }
 },
 "nbformat": 4,
 "nbformat_minor": 5
}
