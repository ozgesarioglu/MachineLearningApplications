{
 "cells": [
  {
   "cell_type": "markdown",
   "id": "0e22b752",
   "metadata": {},
   "source": [
    "### Sınıflama İçin Çok Terimli Lojistik Regresyon Uygulaması"
   ]
  },
  {
   "cell_type": "markdown",
   "id": "5a74c8ac",
   "metadata": {},
   "source": [
    "Veri Seti: İris çiçeği veri kümesi"
   ]
  },
  {
   "cell_type": "markdown",
   "id": "9423f817",
   "metadata": {},
   "source": [
    "Veri seti üç iris türünün(Iris setosa, Iris virginica, Iris versicolor) her birinden 50 örnekten oluşur. Her numuneden dört özellik ölçülmüştür.\n",
    "Taç ve çanak yapraklarının uzunluğu ve genişliği(santimetre cinsinden)"
   ]
  },
  {
   "cell_type": "markdown",
   "id": "9c91a792",
   "metadata": {},
   "source": [
    "#### Problem: Bu dört özelliğin kombinasyonuna dayanarak, çok terimli lojistik regresyon modeli ile sınıflama modelleri oluşturmak"
   ]
  },
  {
   "cell_type": "code",
   "execution_count": 77,
   "id": "2cabc23c",
   "metadata": {},
   "outputs": [
    {
     "data": {
      "text/html": [
       "<div>\n",
       "<style scoped>\n",
       "    .dataframe tbody tr th:only-of-type {\n",
       "        vertical-align: middle;\n",
       "    }\n",
       "\n",
       "    .dataframe tbody tr th {\n",
       "        vertical-align: top;\n",
       "    }\n",
       "\n",
       "    .dataframe thead th {\n",
       "        text-align: right;\n",
       "    }\n",
       "</style>\n",
       "<table border=\"1\" class=\"dataframe\">\n",
       "  <thead>\n",
       "    <tr style=\"text-align: right;\">\n",
       "      <th></th>\n",
       "      <th>sepal_uzunlugu</th>\n",
       "      <th>sepal_genisligi</th>\n",
       "      <th>petal_uzunlugu</th>\n",
       "      <th>petal_genisligi</th>\n",
       "      <th>tur</th>\n",
       "    </tr>\n",
       "  </thead>\n",
       "  <tbody>\n",
       "    <tr>\n",
       "      <th>0</th>\n",
       "      <td>5.1</td>\n",
       "      <td>3.5</td>\n",
       "      <td>1.4</td>\n",
       "      <td>0.2</td>\n",
       "      <td>Iris-setosa</td>\n",
       "    </tr>\n",
       "    <tr>\n",
       "      <th>1</th>\n",
       "      <td>4.9</td>\n",
       "      <td>3.0</td>\n",
       "      <td>1.4</td>\n",
       "      <td>0.2</td>\n",
       "      <td>Iris-setosa</td>\n",
       "    </tr>\n",
       "    <tr>\n",
       "      <th>2</th>\n",
       "      <td>4.7</td>\n",
       "      <td>3.2</td>\n",
       "      <td>1.3</td>\n",
       "      <td>0.2</td>\n",
       "      <td>Iris-setosa</td>\n",
       "    </tr>\n",
       "    <tr>\n",
       "      <th>3</th>\n",
       "      <td>4.6</td>\n",
       "      <td>3.1</td>\n",
       "      <td>1.5</td>\n",
       "      <td>0.2</td>\n",
       "      <td>Iris-setosa</td>\n",
       "    </tr>\n",
       "    <tr>\n",
       "      <th>4</th>\n",
       "      <td>5.0</td>\n",
       "      <td>3.6</td>\n",
       "      <td>1.4</td>\n",
       "      <td>0.2</td>\n",
       "      <td>Iris-setosa</td>\n",
       "    </tr>\n",
       "    <tr>\n",
       "      <th>...</th>\n",
       "      <td>...</td>\n",
       "      <td>...</td>\n",
       "      <td>...</td>\n",
       "      <td>...</td>\n",
       "      <td>...</td>\n",
       "    </tr>\n",
       "    <tr>\n",
       "      <th>145</th>\n",
       "      <td>6.7</td>\n",
       "      <td>3.0</td>\n",
       "      <td>5.2</td>\n",
       "      <td>2.3</td>\n",
       "      <td>Iris-virginica</td>\n",
       "    </tr>\n",
       "    <tr>\n",
       "      <th>146</th>\n",
       "      <td>6.3</td>\n",
       "      <td>2.5</td>\n",
       "      <td>5.0</td>\n",
       "      <td>1.9</td>\n",
       "      <td>Iris-virginica</td>\n",
       "    </tr>\n",
       "    <tr>\n",
       "      <th>147</th>\n",
       "      <td>6.5</td>\n",
       "      <td>3.0</td>\n",
       "      <td>5.2</td>\n",
       "      <td>2.0</td>\n",
       "      <td>Iris-virginica</td>\n",
       "    </tr>\n",
       "    <tr>\n",
       "      <th>148</th>\n",
       "      <td>6.2</td>\n",
       "      <td>3.4</td>\n",
       "      <td>5.4</td>\n",
       "      <td>2.3</td>\n",
       "      <td>Iris-virginica</td>\n",
       "    </tr>\n",
       "    <tr>\n",
       "      <th>149</th>\n",
       "      <td>5.9</td>\n",
       "      <td>3.0</td>\n",
       "      <td>5.1</td>\n",
       "      <td>1.8</td>\n",
       "      <td>Iris-virginica</td>\n",
       "    </tr>\n",
       "  </tbody>\n",
       "</table>\n",
       "<p>150 rows × 5 columns</p>\n",
       "</div>"
      ],
      "text/plain": [
       "     sepal_uzunlugu  sepal_genisligi  petal_uzunlugu  petal_genisligi  \\\n",
       "0               5.1              3.5             1.4              0.2   \n",
       "1               4.9              3.0             1.4              0.2   \n",
       "2               4.7              3.2             1.3              0.2   \n",
       "3               4.6              3.1             1.5              0.2   \n",
       "4               5.0              3.6             1.4              0.2   \n",
       "..              ...              ...             ...              ...   \n",
       "145             6.7              3.0             5.2              2.3   \n",
       "146             6.3              2.5             5.0              1.9   \n",
       "147             6.5              3.0             5.2              2.0   \n",
       "148             6.2              3.4             5.4              2.3   \n",
       "149             5.9              3.0             5.1              1.8   \n",
       "\n",
       "                tur  \n",
       "0       Iris-setosa  \n",
       "1       Iris-setosa  \n",
       "2       Iris-setosa  \n",
       "3       Iris-setosa  \n",
       "4       Iris-setosa  \n",
       "..              ...  \n",
       "145  Iris-virginica  \n",
       "146  Iris-virginica  \n",
       "147  Iris-virginica  \n",
       "148  Iris-virginica  \n",
       "149  Iris-virginica  \n",
       "\n",
       "[150 rows x 5 columns]"
      ]
     },
     "execution_count": 77,
     "metadata": {},
     "output_type": "execute_result"
    }
   ],
   "source": [
    "import pandas as pd\n",
    "from pandas import read_csv\n",
    "import matplotlib.pyplot as plt \n",
    "from sklearn.linear_model import LogisticRegression\n",
    "url=\"https://raw.githubusercontent.com/jbrownlee/Datasets/master/iris.csv\"\n",
    "names=[\"sepal_uzunlugu\",\"sepal_genisligi\",\"petal_uzunlugu\",\"petal_genisligi\",\"tur\"]\n",
    "dataset = read_csv(url, names=names)\n",
    "dataset\n",
    "df = pd.DataFrame(dataset)\n",
    "df"
   ]
  },
  {
   "cell_type": "code",
   "execution_count": null,
   "id": "d2794080",
   "metadata": {},
   "outputs": [],
   "source": []
  },
  {
   "cell_type": "markdown",
   "id": "fbefc23e",
   "metadata": {},
   "source": [
    " *Bir sonraki adım özellik mühendisliğidir. En güçlü sınıflandırma modelini sağlayacak özelliklerin seçilmesi gerekir."
   ]
  },
  {
   "cell_type": "markdown",
   "id": "a837cb50",
   "metadata": {},
   "source": [
    "Aşağıda kodlar sepal genişliğe karşı petal uzunluğun serpme grafiği verilmiş ve farklı türler farklı işaretçilerle gösterilmiştir."
   ]
  },
  {
   "cell_type": "code",
   "execution_count": 130,
   "id": "8871d1ba",
   "metadata": {},
   "outputs": [
    {
     "data": {
      "image/png": "[encoded data removed]",
      "text/plain": [
       "<Figure size 720x504 with 1 Axes>"
      ]
     },
     "metadata": {
      "needs_background": "light"
     },
     "output_type": "display_data"
    }
   ],
   "source": [
    "markers = {\n",
    "    \"Iris-setosa\" : {\"marker\" : \"x\"},\n",
    "    \"Iris-versicolor\" : {\"marker\" : \"*\"},\n",
    "    \"Iris-virginica\" : {\"marker\" : \"o\"}}\n",
    "plt.figure(figsize=(10,7))\n",
    "for name,group in df.groupby(\"tur\"):\n",
    "    plt.scatter(group[\"sepal_genisligi\"], group[\"petal_uzunlugu\"],\n",
    "                label = name, marker = markers[name][\"marker\"])\n",
    "plt.title(\"Sepal genişliğe karşı Petal uzunluğu tür sınıflaması\");\n",
    "plt.xlabel(\"sepal_genisligi(mm)\");\n",
    "plt.ylabel(\"petal_uzunlugu(mm)\");\n",
    "plt.legend();"
   ]
  },
  {
   "cell_type": "code",
   "execution_count": null,
   "id": "7ba0b725",
   "metadata": {},
   "outputs": [],
   "source": []
  },
  {
   "cell_type": "code",
   "execution_count": 45,
   "id": "4f1cab04",
   "metadata": {},
   "outputs": [],
   "source": [
    "# Aşağıdaki kodlar kullanılarak farklı öznitelikler seçilebilir.\n",
    "oznitelikler = [ \"sepal_genisligi\", \"petal_uzunlugu\"]"
   ]
  },
  {
   "cell_type": "code",
   "execution_count": 46,
   "id": "0a211885",
   "metadata": {},
   "outputs": [],
   "source": [
    "# Aşağıdaki kod ile hedef değişkeni çok terimli lojistik modele uygun olarak ifade edilebilir.\n",
    "tur = [\n",
    "    \"Iris-setosa\",     # 0\n",
    "    \"Iris-versicolor\", # 1 \n",
    "    \"Iris-virginica\"   # 2\n",
    "]"
   ]
  },
  {
   "cell_type": "code",
   "execution_count": 47,
   "id": "c6029d11",
   "metadata": {},
   "outputs": [],
   "source": [
    "output = [tur.index(spec) for spec in df.tur]"
   ]
  },
  {
   "cell_type": "code",
   "execution_count": 129,
   "id": "2f72ccaa",
   "metadata": {
    "scrolled": true
   },
   "outputs": [
    {
     "data": {
      "text/plain": [
       "LogisticRegression()"
      ]
     },
     "execution_count": 129,
     "metadata": {},
     "output_type": "execute_result"
    }
   ],
   "source": [
    "# Çok terimli lojistik modeli çağırmak için;    !!!!\n",
    "model = LogisticRegression(multi_class = \"auto\", solver = \"lbfgs\")\n",
    "model.fit(df[oznitelikler], output)"
   ]
  },
  {
   "cell_type": "code",
   "execution_count": 114,
   "id": "41ffc04b",
   "metadata": {
    "scrolled": true
   },
   "outputs": [
    {
     "data": {
      "text/plain": [
       "0.9733333333333334"
      ]
     },
     "execution_count": 114,
     "metadata": {},
     "output_type": "execute_result"
    }
   ],
   "source": [
    "# Model doğruluğu için;            !!!!\n",
    "model.score(df[oznitelikler], output)"
   ]
  },
  {
   "cell_type": "code",
   "execution_count": null,
   "id": "e58b0fc5",
   "metadata": {},
   "outputs": [],
   "source": []
  },
  {
   "cell_type": "code",
   "execution_count": 52,
   "id": "63c16863",
   "metadata": {},
   "outputs": [
    {
     "data": {
      "text/plain": [
       "0.96"
      ]
     },
     "execution_count": 52,
     "metadata": {},
     "output_type": "execute_result"
    }
   ],
   "source": [
    "oznitelikler = [\"sepal_uzunlugu\", \"petal_genisligi\"]\n",
    "model.fit(df[oznitelikler], output)\n",
    "model.score(df[oznitelikler], output)"
   ]
  },
  {
   "cell_type": "code",
   "execution_count": 89,
   "id": "0cc7d518",
   "metadata": {},
   "outputs": [
    {
     "data": {
      "image/png": "[encoded data removed]",
      "text/plain": [
       "<Figure size 720x504 with 1 Axes>"
      ]
     },
     "metadata": {
      "needs_background": "light"
     },
     "output_type": "display_data"
    }
   ],
   "source": [
    "markers = {\n",
    "    \"Iris-setosa\" : {\"marker\" : \"x\"},\n",
    "    \"Iris-versicolor\" : {\"marker\" : \"*\"},\n",
    "    \"Iris-virginica\" : {\"marker\" : \"o\"}}\n",
    "plt.figure(figsize=(10,7))\n",
    "for name,group in df.groupby(\"tur\"):\n",
    "    plt.scatter(group[\"petal_genisligi\"], group[\"sepal_uzunlugu\"],\n",
    "                label = name, marker = markers[name][\"marker\"])\n",
    "plt.title(\"Petal genişliğe karşı Sepal uzunluğu tür sınıflaması\");\n",
    "plt.xlabel(\"petal_genisligi(mm)\");\n",
    "plt.ylabel(\"sepal_uzunlugu(mm)\");\n",
    "plt.legend();"
   ]
  },
  {
   "cell_type": "code",
   "execution_count": null,
   "id": "e353e452",
   "metadata": {},
   "outputs": [],
   "source": []
  },
  {
   "cell_type": "code",
   "execution_count": 55,
   "id": "f4e30c15",
   "metadata": {},
   "outputs": [
    {
     "data": {
      "text/plain": [
       "0.82"
      ]
     },
     "execution_count": 55,
     "metadata": {},
     "output_type": "execute_result"
    }
   ],
   "source": [
    "oznitelikler = [\"sepal_uzunlugu\", \"sepal_genisligi\"]\n",
    "model.fit(df[oznitelikler], output)\n",
    "model.score(df[oznitelikler], output)"
   ]
  },
  {
   "cell_type": "code",
   "execution_count": 59,
   "id": "ded6bb8d",
   "metadata": {},
   "outputs": [
    {
     "data": {
      "image/png": "[encoded data removed]",
      "text/plain": [
       "<Figure size 720x504 with 1 Axes>"
      ]
     },
     "metadata": {
      "needs_background": "light"
     },
     "output_type": "display_data"
    }
   ],
   "source": [
    "plt.figure(figsize=(10,7))\n",
    "for name,group in df.groupby(\"tur\"):\n",
    "    plt.scatter(group[\"sepal_genisligi\"], group[\"sepal_uzunlugu\"],\n",
    "                label = name, marker = markers[name][\"marker\"])\n",
    "plt.title(\"Sepal genişliğe karşı Sepal uzunluğu tür sınıflaması\");\n",
    "plt.xlabel(\"sepal_genisligi(mm)\");\n",
    "plt.ylabel(\"sepal_uzunlugu(mm)\");\n",
    "plt.legend();"
   ]
  },
  {
   "cell_type": "code",
   "execution_count": null,
   "id": "1d6651db",
   "metadata": {},
   "outputs": [],
   "source": []
  },
  {
   "cell_type": "code",
   "execution_count": null,
   "id": "baf51a25",
   "metadata": {},
   "outputs": [],
   "source": []
  },
  {
   "cell_type": "code",
   "execution_count": 60,
   "id": "2fedaa3f",
   "metadata": {},
   "outputs": [
    {
     "data": {
      "text/plain": [
       "0.9666666666666667"
      ]
     },
     "execution_count": 60,
     "metadata": {},
     "output_type": "execute_result"
    }
   ],
   "source": [
    "oznitelikler = [\"petal_genisligi\", \"petal_uzunlugu\"]\n",
    "model.fit(df[oznitelikler], output)\n",
    "model.score(df[oznitelikler], output)"
   ]
  },
  {
   "cell_type": "code",
   "execution_count": 61,
   "id": "c073ae08",
   "metadata": {},
   "outputs": [
    {
     "data": {
      "image/png": "[encoded data removed]",
      "text/plain": [
       "<Figure size 720x504 with 1 Axes>"
      ]
     },
     "metadata": {
      "needs_background": "light"
     },
     "output_type": "display_data"
    }
   ],
   "source": [
    "plt.figure(figsize=(10,7))\n",
    "for name,group in df.groupby(\"tur\"):\n",
    "    plt.scatter(group[\"petal_genisligi\"], group[\"petal_uzunlugu\"],\n",
    "                label = name, marker = markers[name][\"marker\"])\n",
    "plt.title(\"Petal genişliğe karşı Petal uzunluğu tür sınıflaması\");\n",
    "plt.xlabel(\"petal_genisligi\");\n",
    "plt.ylabel(\"petal_uzunlugu\");\n",
    "plt.legend();"
   ]
  },
  {
   "cell_type": "code",
   "execution_count": null,
   "id": "fca6a2ce",
   "metadata": {},
   "outputs": [],
   "source": []
  },
  {
   "cell_type": "code",
   "execution_count": null,
   "id": "d616f0fd",
   "metadata": {},
   "outputs": [],
   "source": []
  },
  {
   "cell_type": "code",
   "execution_count": 65,
   "id": "0f764924",
   "metadata": {},
   "outputs": [
    {
     "data": {
      "text/plain": [
       "0.98"
      ]
     },
     "execution_count": 65,
     "metadata": {},
     "output_type": "execute_result"
    }
   ],
   "source": [
    "oznitelikler = [\"sepal_genisligi\", \"petal_uzunlugu\", \"petal_genisligi\"]\n",
    "model.fit(df[oznitelikler], output)\n",
    "model.score(df[oznitelikler], output)"
   ]
  },
  {
   "cell_type": "code",
   "execution_count": null,
   "id": "b1796fdf",
   "metadata": {},
   "outputs": [],
   "source": []
  },
  {
   "cell_type": "code",
   "execution_count": 66,
   "id": "ebe0e86f",
   "metadata": {},
   "outputs": [
    {
     "data": {
      "text/plain": [
       "0.9733333333333334"
      ]
     },
     "execution_count": 66,
     "metadata": {},
     "output_type": "execute_result"
    }
   ],
   "source": [
    "oznitelikler = [\"sepal_uzunlugu\", \"sepal_genisligi\", \"petal_uzunlugu\", \"petal_genisligi\"]\n",
    "model.fit(df[oznitelikler], output)\n",
    "model.score(df[oznitelikler], output)"
   ]
  },
  {
   "cell_type": "code",
   "execution_count": null,
   "id": "059bbf4e",
   "metadata": {},
   "outputs": [],
   "source": []
  }
 ],
 "metadata": {
  "kernelspec": {
   "display_name": "Python 3 (ipykernel)",
   "language": "python",
   "name": "python3"
  },
  "language_info": {
   "codemirror_mode": {
    "name": "ipython",
    "version": 3
   },
   "file_extension": ".py",
   "mimetype": "text/x-python",
   "name": "python",
   "nbconvert_exporter": "python",
   "pygments_lexer": "ipython3",
   "version": "3.9.7"
  }
 },
 "nbformat": 4,
 "nbformat_minor": 5
}
