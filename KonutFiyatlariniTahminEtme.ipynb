{
 "cells": [
  {
   "cell_type": "markdown",
   "id": "5dc06ab1",
   "metadata": {},
   "source": [
    "## KONUT FİYATLARINI TAHMİN ETME VERİ SETİ"
   ]
  },
  {
   "cell_type": "markdown",
   "id": "e19c51ff",
   "metadata": {},
   "source": [
    "Veri seti, Zillow'un ev değeri tahmini kaggle rekabet verilerinden uyarlanmıştır. Öz nitelik sayısı azaltılıp, konut fiyatları medyan değerinin üstünde veya altında olarak ikili hale getirilmiştir."
   ]
  },
  {
   "cell_type": "markdown",
   "id": "c3518752",
   "metadata": {},
   "source": [
    "#### Problem: Özniteliklere bağlı olarak konut fiyatlarını tahmin edecek derin öğrenme yapısı kurmak."
   ]
  },
  {
   "cell_type": "markdown",
   "id": "256635cd",
   "metadata": {},
   "source": [
    "## 1.Adım: Veri İşleme"
   ]
  },
  {
   "cell_type": "code",
   "execution_count": 22,
   "id": "dddafdcc",
   "metadata": {
    "scrolled": true
   },
   "outputs": [
    {
     "data": {
      "text/html": [
       "<div>\n",
       "<style scoped>\n",
       "    .dataframe tbody tr th:only-of-type {\n",
       "        vertical-align: middle;\n",
       "    }\n",
       "\n",
       "    .dataframe tbody tr th {\n",
       "        vertical-align: top;\n",
       "    }\n",
       "\n",
       "    .dataframe thead th {\n",
       "        text-align: right;\n",
       "    }\n",
       "</style>\n",
       "<table border=\"1\" class=\"dataframe\">\n",
       "  <thead>\n",
       "    <tr style=\"text-align: right;\">\n",
       "      <th></th>\n",
       "      <th>LotArea</th>\n",
       "      <th>OverallQual</th>\n",
       "      <th>OverallCond</th>\n",
       "      <th>TotalBsmtSF</th>\n",
       "      <th>FullBath</th>\n",
       "      <th>HalfBath</th>\n",
       "      <th>BedroomAbvGr</th>\n",
       "      <th>TotRmsAbvGrd</th>\n",
       "      <th>Fireplaces</th>\n",
       "      <th>GarageArea</th>\n",
       "      <th>AboveMedianPrice</th>\n",
       "    </tr>\n",
       "  </thead>\n",
       "  <tbody>\n",
       "    <tr>\n",
       "      <th>0</th>\n",
       "      <td>8450</td>\n",
       "      <td>7</td>\n",
       "      <td>5</td>\n",
       "      <td>856</td>\n",
       "      <td>2</td>\n",
       "      <td>1</td>\n",
       "      <td>3</td>\n",
       "      <td>8</td>\n",
       "      <td>0</td>\n",
       "      <td>548</td>\n",
       "      <td>1</td>\n",
       "    </tr>\n",
       "    <tr>\n",
       "      <th>1</th>\n",
       "      <td>9600</td>\n",
       "      <td>6</td>\n",
       "      <td>8</td>\n",
       "      <td>1262</td>\n",
       "      <td>2</td>\n",
       "      <td>0</td>\n",
       "      <td>3</td>\n",
       "      <td>6</td>\n",
       "      <td>1</td>\n",
       "      <td>460</td>\n",
       "      <td>1</td>\n",
       "    </tr>\n",
       "    <tr>\n",
       "      <th>2</th>\n",
       "      <td>11250</td>\n",
       "      <td>7</td>\n",
       "      <td>5</td>\n",
       "      <td>920</td>\n",
       "      <td>2</td>\n",
       "      <td>1</td>\n",
       "      <td>3</td>\n",
       "      <td>6</td>\n",
       "      <td>1</td>\n",
       "      <td>608</td>\n",
       "      <td>1</td>\n",
       "    </tr>\n",
       "    <tr>\n",
       "      <th>3</th>\n",
       "      <td>9550</td>\n",
       "      <td>7</td>\n",
       "      <td>5</td>\n",
       "      <td>756</td>\n",
       "      <td>1</td>\n",
       "      <td>0</td>\n",
       "      <td>3</td>\n",
       "      <td>7</td>\n",
       "      <td>1</td>\n",
       "      <td>642</td>\n",
       "      <td>0</td>\n",
       "    </tr>\n",
       "    <tr>\n",
       "      <th>4</th>\n",
       "      <td>14260</td>\n",
       "      <td>8</td>\n",
       "      <td>5</td>\n",
       "      <td>1145</td>\n",
       "      <td>2</td>\n",
       "      <td>1</td>\n",
       "      <td>4</td>\n",
       "      <td>9</td>\n",
       "      <td>1</td>\n",
       "      <td>836</td>\n",
       "      <td>1</td>\n",
       "    </tr>\n",
       "    <tr>\n",
       "      <th>...</th>\n",
       "      <td>...</td>\n",
       "      <td>...</td>\n",
       "      <td>...</td>\n",
       "      <td>...</td>\n",
       "      <td>...</td>\n",
       "      <td>...</td>\n",
       "      <td>...</td>\n",
       "      <td>...</td>\n",
       "      <td>...</td>\n",
       "      <td>...</td>\n",
       "      <td>...</td>\n",
       "    </tr>\n",
       "    <tr>\n",
       "      <th>1455</th>\n",
       "      <td>7917</td>\n",
       "      <td>6</td>\n",
       "      <td>5</td>\n",
       "      <td>953</td>\n",
       "      <td>2</td>\n",
       "      <td>1</td>\n",
       "      <td>3</td>\n",
       "      <td>7</td>\n",
       "      <td>1</td>\n",
       "      <td>460</td>\n",
       "      <td>1</td>\n",
       "    </tr>\n",
       "    <tr>\n",
       "      <th>1456</th>\n",
       "      <td>13175</td>\n",
       "      <td>6</td>\n",
       "      <td>6</td>\n",
       "      <td>1542</td>\n",
       "      <td>2</td>\n",
       "      <td>0</td>\n",
       "      <td>3</td>\n",
       "      <td>7</td>\n",
       "      <td>2</td>\n",
       "      <td>500</td>\n",
       "      <td>1</td>\n",
       "    </tr>\n",
       "    <tr>\n",
       "      <th>1457</th>\n",
       "      <td>9042</td>\n",
       "      <td>7</td>\n",
       "      <td>9</td>\n",
       "      <td>1152</td>\n",
       "      <td>2</td>\n",
       "      <td>0</td>\n",
       "      <td>4</td>\n",
       "      <td>9</td>\n",
       "      <td>2</td>\n",
       "      <td>252</td>\n",
       "      <td>1</td>\n",
       "    </tr>\n",
       "    <tr>\n",
       "      <th>1458</th>\n",
       "      <td>9717</td>\n",
       "      <td>5</td>\n",
       "      <td>6</td>\n",
       "      <td>1078</td>\n",
       "      <td>1</td>\n",
       "      <td>0</td>\n",
       "      <td>2</td>\n",
       "      <td>5</td>\n",
       "      <td>0</td>\n",
       "      <td>240</td>\n",
       "      <td>0</td>\n",
       "    </tr>\n",
       "    <tr>\n",
       "      <th>1459</th>\n",
       "      <td>9937</td>\n",
       "      <td>5</td>\n",
       "      <td>6</td>\n",
       "      <td>1256</td>\n",
       "      <td>1</td>\n",
       "      <td>1</td>\n",
       "      <td>3</td>\n",
       "      <td>6</td>\n",
       "      <td>0</td>\n",
       "      <td>276</td>\n",
       "      <td>0</td>\n",
       "    </tr>\n",
       "  </tbody>\n",
       "</table>\n",
       "<p>1460 rows × 11 columns</p>\n",
       "</div>"
      ],
      "text/plain": [
       "      LotArea  OverallQual  OverallCond  TotalBsmtSF  FullBath  HalfBath  \\\n",
       "0        8450            7            5          856         2         1   \n",
       "1        9600            6            8         1262         2         0   \n",
       "2       11250            7            5          920         2         1   \n",
       "3        9550            7            5          756         1         0   \n",
       "4       14260            8            5         1145         2         1   \n",
       "...       ...          ...          ...          ...       ...       ...   \n",
       "1455     7917            6            5          953         2         1   \n",
       "1456    13175            6            6         1542         2         0   \n",
       "1457     9042            7            9         1152         2         0   \n",
       "1458     9717            5            6         1078         1         0   \n",
       "1459     9937            5            6         1256         1         1   \n",
       "\n",
       "      BedroomAbvGr  TotRmsAbvGrd  Fireplaces  GarageArea  AboveMedianPrice  \n",
       "0                3             8           0         548                 1  \n",
       "1                3             6           1         460                 1  \n",
       "2                3             6           1         608                 1  \n",
       "3                3             7           1         642                 0  \n",
       "4                4             9           1         836                 1  \n",
       "...            ...           ...         ...         ...               ...  \n",
       "1455             3             7           1         460                 1  \n",
       "1456             3             7           2         500                 1  \n",
       "1457             4             9           2         252                 1  \n",
       "1458             2             5           0         240                 0  \n",
       "1459             3             6           0         276                 0  \n",
       "\n",
       "[1460 rows x 11 columns]"
      ]
     },
     "execution_count": 22,
     "metadata": {},
     "output_type": "execute_result"
    }
   ],
   "source": [
    "from pandas import read_csv\n",
    "import pandas as pd\n",
    "# url= \"https://www.kaggle.com/datasets/krishcy25/housepricesdata\"\n",
    "df = pd.read_csv(\"C:/Users/ozgee/OneDrive/Masaüstü/makine öğrenimi dersleri/derinögrenme/housepricedata.csv\")\n",
    "df"
   ]
  },
  {
   "cell_type": "markdown",
   "id": "86d6e708",
   "metadata": {},
   "source": [
    "* LotArea(Zemin alanı)\n",
    "* Overall Quality(Genel Kalite)\n",
    "* Overall Condition(Genel Durum)\n",
    "* Total Basement Area(Toplam Bodrum Alanı)\n",
    "* Number of Full Bathrooms(Tam Banyo Sayısı)\n",
    "* Number Of Half Bathrooms(Yarım Banyo Sayısı)\n",
    "* Number of Bedrooms(Yatak Odası Sayısı)\n",
    "* Total Number of Fireplaces(Şömine Sayısı)\n",
    "* Garage Area(Garaj Alanı)\n",
    "* Son sütun tahmin edilmek istenen hedef değişkeni"
   ]
  },
  {
   "cell_type": "code",
   "execution_count": 23,
   "id": "2d328d20",
   "metadata": {},
   "outputs": [],
   "source": [
    "# Konut fiyatı ortancanın üstünde mi değil mi?(E:1, H:0)\n",
    "# Makinemizin işlemesi için dizilere dönüştürmek istiyoruz."
   ]
  },
  {
   "cell_type": "code",
   "execution_count": 24,
   "id": "e4a060ef",
   "metadata": {},
   "outputs": [
    {
     "data": {
      "text/plain": [
       "array([[ 8450,     7,     5, ...,     0,   548,     1],\n",
       "       [ 9600,     6,     8, ...,     1,   460,     1],\n",
       "       [11250,     7,     5, ...,     1,   608,     1],\n",
       "       ...,\n",
       "       [ 9042,     7,     9, ...,     2,   252,     1],\n",
       "       [ 9717,     5,     6, ...,     0,   240,     0],\n",
       "       [ 9937,     5,     6, ...,     0,   276,     0]], dtype=int64)"
      ]
     },
     "execution_count": 24,
     "metadata": {},
     "output_type": "execute_result"
    }
   ],
   "source": [
    "veriseti = df.values\n",
    "veriseti"
   ]
  },
  {
   "cell_type": "markdown",
   "id": "9aa882f3",
   "metadata": {},
   "source": [
    " Veri kümemizi öznitelikleri(X) ve tahmin etmek istediğimiz hedef değişkeni olarak(Y) böldük. Bunu yapmak içinde dizinin ilk 10  sütunu \"X\" adlı bir değişkene ve dizinin son sütunu \"Y\" adlı bir değişkene atadık."
   ]
  },
  {
   "cell_type": "code",
   "execution_count": 25,
   "id": "77922acb",
   "metadata": {},
   "outputs": [
    {
     "name": "stdout",
     "output_type": "stream",
     "text": [
      "[[ 8450     7     5 ...     8     0   548]\n",
      " [ 9600     6     8 ...     6     1   460]\n",
      " [11250     7     5 ...     6     1   608]\n",
      " ...\n",
      " [ 9042     7     9 ...     9     2   252]\n",
      " [ 9717     5     6 ...     5     0   240]\n",
      " [ 9937     5     6 ...     6     0   276]]\n"
     ]
    }
   ],
   "source": [
    "X = veriseti[:,0:10]\n",
    "print(X)"
   ]
  },
  {
   "cell_type": "code",
   "execution_count": 26,
   "id": "3385d6fe",
   "metadata": {},
   "outputs": [
    {
     "name": "stdout",
     "output_type": "stream",
     "text": [
      "[1 1 1 ... 1 0 0]\n"
     ]
    }
   ],
   "source": [
    "Y = veriseti[:,10]\n",
    "print(Y)"
   ]
  },
  {
   "cell_type": "code",
   "execution_count": null,
   "id": "d84a9b20",
   "metadata": {},
   "outputs": [],
   "source": []
  },
  {
   "cell_type": "code",
   "execution_count": 27,
   "id": "4d7128b9",
   "metadata": {},
   "outputs": [],
   "source": [
    "# Verilerin ölçeklendirmenin bir yolu scikit-learn'den mevcut aşağıdaki paketi kullanmaktır."
   ]
  },
  {
   "cell_type": "code",
   "execution_count": 28,
   "id": "9d2b8b6f",
   "metadata": {},
   "outputs": [],
   "source": [
    "from sklearn import preprocessing"
   ]
  },
  {
   "cell_type": "markdown",
   "id": "4f6cc552",
   "metadata": {},
   "source": [
    " Daha sonra, veri kümesini ölçeklendiren min-max scaler adlı bir fonksiyon \n",
    " kullanılarak 0 ile 1 arasında standartlaştırılır.\n",
    " \n",
    " Not: Sinir ağımızın eğitimine yardımcı olmak için kasıtlı olarak 0 ve 1'i seçtik."
   ]
  },
  {
   "cell_type": "markdown",
   "id": "e54333fa",
   "metadata": {},
   "source": [
    " **Ölçeklendirilmiş veri kümemiz \"X_scale\" dizisinde saklanır. Eğer \"X_scale\" neye benzediğini görmek istiyorsak, X_scale yazmamız yeterlidir."
   ]
  },
  {
   "cell_type": "code",
   "execution_count": 29,
   "id": "67e6d380",
   "metadata": {},
   "outputs": [
    {
     "name": "stdout",
     "output_type": "stream",
     "text": [
      "[[0.0334198  0.66666667 0.5        ... 0.5        0.         0.3864598 ]\n",
      " [0.03879502 0.55555556 0.875      ... 0.33333333 0.33333333 0.32440056]\n",
      " [0.04650728 0.66666667 0.5        ... 0.33333333 0.33333333 0.42877292]\n",
      " ...\n",
      " [0.03618687 0.66666667 1.         ... 0.58333333 0.66666667 0.17771509]\n",
      " [0.03934189 0.44444444 0.625      ... 0.25       0.         0.16925247]\n",
      " [0.04037019 0.44444444 0.625      ... 0.33333333 0.         0.19464034]]\n"
     ]
    }
   ],
   "source": [
    "min_max_scaler = preprocessing.MinMaxScaler()\n",
    "X_scale = min_max_scaler.fit_transform(X)\n",
    "print(X_scale)"
   ]
  },
  {
   "cell_type": "code",
   "execution_count": null,
   "id": "1307e14f",
   "metadata": {},
   "outputs": [],
   "source": []
  },
  {
   "cell_type": "markdown",
   "id": "dc191753",
   "metadata": {},
   "source": [
    "Veri kümemizi bir eğitim kümesine, bir doğrulama kümesine ve bir test kümesine \n",
    "bölmek olan verileri işlemedeki son adıma geliyoruz. Bunun içinde \"train_test_split\" kodunu kullanacağız."
   ]
  },
  {
   "cell_type": "code",
   "execution_count": 30,
   "id": "b123b354",
   "metadata": {},
   "outputs": [],
   "source": [
    "from sklearn.model_selection import train_test_split"
   ]
  },
  {
   "cell_type": "code",
   "execution_count": 31,
   "id": "44ac443b",
   "metadata": {},
   "outputs": [],
   "source": [
    "# Veri kümesini tekrar bölelim."
   ]
  },
  {
   "cell_type": "code",
   "execution_count": 32,
   "id": "35b78f54",
   "metadata": {},
   "outputs": [],
   "source": [
    "# Bu kod, genel veri kümesinin %30'u dogrulama ve test veri seti olacak sekilde ayiracaktir.\n",
    "# Kod, degisken adlarinin önerdigi gibi, bolunmus verileri esittir isaretinin solundaki ilk dort degiskene depolar.\n",
    "X_egitim, X_dogrulama_ve_test, Y_egitim, Y_dogrulama_ve_test = train_test_split(X_scale, Y, test_size=0.3)"
   ]
  },
  {
   "cell_type": "markdown",
   "id": "19a56310",
   "metadata": {},
   "source": [
    "Üstteki fonksiyon yalnızca veri kümemizi ikiye bölmemize yardimci olur. Ayrı bir doğrulama seti ve test seti istediğimizden, bölünmeyi tekrar d için aynı fonksiyonu kullanabiliriz."
   ]
  },
  {
   "cell_type": "code",
   "execution_count": 33,
   "id": "26754afc",
   "metadata": {},
   "outputs": [],
   "source": [
    "# Aşağıdaki kod, doğrulama ve test boyutunu doğrulama kümesine ve test kümesine eşit olarak böler.\n",
    "X_dogrulama, X_test, Y_dogrulama, Y_test = train_test_split(X_dogrulama_ve_test, Y_dogrulama_ve_test, test_size=0.5)"
   ]
  },
  {
   "cell_type": "markdown",
   "id": "0aa92aa9",
   "metadata": {},
   "source": [
    "* X_eğitim(10 öznitelik ve tam veri kümesinin %70'i)\n",
    "\n",
    "* X_dogrulama(10 öznitelik ve tam veri kümesinin %15'i)\n",
    "\n",
    "* X_test(10 öznitelik ve tam veri kümesinin %15'i)\n",
    "\n",
    "* Y_egitim(1 hedef ve tam veri kümesinin %70'i)\n",
    "\n",
    "* Y_dogrulama(1 hedef ve tam veri kümesinin %15'i)\n",
    "\n",
    "* Y_test(1 hedef ve tam veri kümesinin %15'i)\n"
   ]
  },
  {
   "cell_type": "code",
   "execution_count": 34,
   "id": "9364c1de",
   "metadata": {},
   "outputs": [],
   "source": [
    "# Dizilerin her biri için büyüklüklerini(yani hangi boyutlarda olduklarını) görmek için aşağıdaki kodları çalıştırmak gerekir"
   ]
  },
  {
   "cell_type": "code",
   "execution_count": 35,
   "id": "03ba7b4d",
   "metadata": {},
   "outputs": [
    {
     "name": "stdout",
     "output_type": "stream",
     "text": [
      "(1022, 10) (219, 10) (219, 10) (1022,) (219,) (219,)\n"
     ]
    }
   ],
   "source": [
    "print(X_egitim.shape, X_dogrulama.shape, X_test.shape, Y_egitim.shape, Y_dogrulama.shape, Y_test.shape)"
   ]
  },
  {
   "cell_type": "markdown",
   "id": "20e13be1",
   "metadata": {},
   "source": [
    "Yorum: Yani eğitim seti 1022 veri noktasına sahipken, doğrulama ve test seti her biri 219 veri noktasına sahiptir. X değişkenleri 10 özniteliğe sahipken, Y değişkenleri tahmin etmek için yalnızca bir hedef değişkeni sahiptir."
   ]
  },
  {
   "cell_type": "code",
   "execution_count": null,
   "id": "67fdf612",
   "metadata": {},
   "outputs": [],
   "source": []
  },
  {
   "cell_type": "markdown",
   "id": "7218244b",
   "metadata": {},
   "source": [
    "## 2. Adım: Sinir Ağlarını Eğitme ve Kurma "
   ]
  },
  {
   "cell_type": "markdown",
   "id": "3cf31603",
   "metadata": {},
   "source": [
    "** Derin öğrenmenin iki adımı\n",
    "\n",
    "- Bir şablon(mimari) belirtmek\n",
    "\n",
    "- Bu şablonu doldurmak için verilerden en iyi sayıları bulmak"
   ]
  },
  {
   "cell_type": "markdown",
   "id": "feddf46a",
   "metadata": {},
   "source": [
    "###### 1- Mimariyi kurmada sinir ağına ihtiyaç var"
   ]
  },
  {
   "cell_type": "markdown",
   "id": "4b9afa57",
   "metadata": {},
   "source": [
    "--İnput tabakası: 10 nöron\n",
    "\n",
    "--Gizli katman1 : 32 nöronlar, ReLU aktivasyon fonksiyonu\n",
    "\n",
    "--Gizli katman 2: 32 nöronlar, ReLU aktivasyon foonksiyonu\n",
    "\n",
    "--Output katmanı: 1 nöron, Sigmoid aktivasyon fonksiyonu\n"
   ]
  },
  {
   "cell_type": "code",
   "execution_count": 37,
   "id": "d073fe22",
   "metadata": {},
   "outputs": [],
   "source": [
    "# Keras kütüphanesinde, Sequential modeli kullanılabilir."
   ]
  },
  {
   "cell_type": "code",
   "execution_count": 38,
   "id": "a35c92c0",
   "metadata": {},
   "outputs": [
    {
     "name": "stdout",
     "output_type": "stream",
     "text": [
      "Requirement already satisfied: keras==2.9.0 in c:\\users\\ozgee\\anaconda3\\lib\\site-packages (2.9.0)\n",
      "Note: you may need to restart the kernel to use updated packages.\n"
     ]
    }
   ],
   "source": [
    "pip install keras==2.9.0 "
   ]
  },
  {
   "cell_type": "code",
   "execution_count": null,
   "id": "a446bb52",
   "metadata": {},
   "outputs": [],
   "source": [
    "pip install tensorflow"
   ]
  },
  {
   "cell_type": "code",
   "execution_count": 39,
   "id": "331fb3af",
   "metadata": {},
   "outputs": [],
   "source": [
    "from keras.models import Sequential\n",
    "from keras.layers import Dense"
   ]
  },
  {
   "cell_type": "code",
   "execution_count": 40,
   "id": "f1fbc406",
   "metadata": {},
   "outputs": [],
   "source": [
    "# model=sequential([..........])modelin model degiskeninde saklanmasi ve koseli\n",
    "# parantezler arasinda sirayla(katman katman) tanimlanmasi icin kullanilir.\n",
    "model= Sequential([           \n",
    "    Dense(32, activation=\"relu\", input_shape=(10,)),  # 10 öznitelige sahip, o yuzden giris sekli 10\n",
    "    Dense(32, activation=\"relu\"),   #giris seklini tanitmak zorunda degiliz.\n",
    "    Dense(1,activation=\"sigmoid\"),  #1 nöronlu bir dense katmani\n",
    "])"
   ]
  },
  {
   "cell_type": "code",
   "execution_count": null,
   "id": "97073405",
   "metadata": {},
   "outputs": [],
   "source": []
  },
  {
   "cell_type": "markdown",
   "id": "5bafadea",
   "metadata": {},
   "source": [
    "###### 2- En iyi sayılara göre doldurma"
   ]
  },
  {
   "cell_type": "code",
   "execution_count": 41,
   "id": "06d72f12",
   "metadata": {},
   "outputs": [],
   "source": [
    "# Optimazyon yapmak için hangi algoritmanın kullanılacağını belirleme\n",
    "# Hangi kayıp fonksiyonun kullanılacağını belirleme\n",
    "# Kayıp fonksiyonundan başka hangi metriklerin kullanılıcağını belirleme"
   ]
  },
  {
   "cell_type": "code",
   "execution_count": null,
   "id": "12939eae",
   "metadata": {},
   "outputs": [],
   "source": []
  },
  {
   "cell_type": "code",
   "execution_count": 42,
   "id": "41fce5a0",
   "metadata": {},
   "outputs": [],
   "source": [
    "model.compile(optimizer=\"sgd\", loss=\"binary_crossentropy\", metrics=[\"accuracy\"])"
   ]
  },
  {
   "cell_type": "code",
   "execution_count": 43,
   "id": "dbd1632d",
   "metadata": {},
   "outputs": [
    {
     "name": "stdout",
     "output_type": "stream",
     "text": [
      "Epoch 1/100\n",
      "32/32 [==============================] - 1s 7ms/step - loss: 0.6933 - accuracy: 0.4814 - val_loss: 0.6844 - val_accuracy: 0.5571\n",
      "Epoch 2/100\n",
      "32/32 [==============================] - 0s 2ms/step - loss: 0.6834 - accuracy: 0.5362 - val_loss: 0.6737 - val_accuracy: 0.5571\n",
      "Epoch 3/100\n",
      "32/32 [==============================] - 0s 2ms/step - loss: 0.6742 - accuracy: 0.5342 - val_loss: 0.6645 - val_accuracy: 0.5616\n",
      "Epoch 4/100\n",
      "32/32 [==============================] - 0s 2ms/step - loss: 0.6652 - accuracy: 0.5714 - val_loss: 0.6556 - val_accuracy: 0.6210\n",
      "Epoch 5/100\n",
      "32/32 [==============================] - 0s 2ms/step - loss: 0.6567 - accuracy: 0.6859 - val_loss: 0.6466 - val_accuracy: 0.6621\n",
      "Epoch 6/100\n",
      "32/32 [==============================] - 0s 2ms/step - loss: 0.6480 - accuracy: 0.6849 - val_loss: 0.6385 - val_accuracy: 0.7306\n",
      "Epoch 7/100\n",
      "32/32 [==============================] - 0s 2ms/step - loss: 0.6395 - accuracy: 0.7397 - val_loss: 0.6308 - val_accuracy: 0.7626\n",
      "Epoch 8/100\n",
      "32/32 [==============================] - 0s 2ms/step - loss: 0.6316 - accuracy: 0.7867 - val_loss: 0.6233 - val_accuracy: 0.7808\n",
      "Epoch 9/100\n",
      "32/32 [==============================] - 0s 2ms/step - loss: 0.6238 - accuracy: 0.7975 - val_loss: 0.6158 - val_accuracy: 0.7900\n",
      "Epoch 10/100\n",
      "32/32 [==============================] - 0s 2ms/step - loss: 0.6160 - accuracy: 0.8160 - val_loss: 0.6081 - val_accuracy: 0.7854\n",
      "Epoch 11/100\n",
      "32/32 [==============================] - 0s 2ms/step - loss: 0.6082 - accuracy: 0.8180 - val_loss: 0.6003 - val_accuracy: 0.7945\n",
      "Epoch 12/100\n",
      "32/32 [==============================] - 0s 2ms/step - loss: 0.6005 - accuracy: 0.8219 - val_loss: 0.5923 - val_accuracy: 0.8128\n",
      "Epoch 13/100\n",
      "32/32 [==============================] - 0s 2ms/step - loss: 0.5921 - accuracy: 0.8239 - val_loss: 0.5843 - val_accuracy: 0.8265\n",
      "Epoch 14/100\n",
      "32/32 [==============================] - 0s 2ms/step - loss: 0.5837 - accuracy: 0.8337 - val_loss: 0.5757 - val_accuracy: 0.8219\n",
      "Epoch 15/100\n",
      "32/32 [==============================] - 0s 2ms/step - loss: 0.5752 - accuracy: 0.8376 - val_loss: 0.5674 - val_accuracy: 0.8174\n",
      "Epoch 16/100\n",
      "32/32 [==============================] - 0s 2ms/step - loss: 0.5665 - accuracy: 0.8395 - val_loss: 0.5591 - val_accuracy: 0.8447\n",
      "Epoch 17/100\n",
      "32/32 [==============================] - 0s 2ms/step - loss: 0.5575 - accuracy: 0.8425 - val_loss: 0.5504 - val_accuracy: 0.8402\n",
      "Epoch 18/100\n",
      "32/32 [==============================] - 0s 2ms/step - loss: 0.5481 - accuracy: 0.8474 - val_loss: 0.5419 - val_accuracy: 0.8447\n",
      "Epoch 19/100\n",
      "32/32 [==============================] - 0s 2ms/step - loss: 0.5388 - accuracy: 0.8503 - val_loss: 0.5325 - val_accuracy: 0.8447\n",
      "Epoch 20/100\n",
      "32/32 [==============================] - 0s 2ms/step - loss: 0.5295 - accuracy: 0.8454 - val_loss: 0.5239 - val_accuracy: 0.8493\n",
      "Epoch 21/100\n",
      "32/32 [==============================] - 0s 2ms/step - loss: 0.5201 - accuracy: 0.8523 - val_loss: 0.5135 - val_accuracy: 0.8402\n",
      "Epoch 22/100\n",
      "32/32 [==============================] - 0s 2ms/step - loss: 0.5104 - accuracy: 0.8571 - val_loss: 0.5051 - val_accuracy: 0.8584\n",
      "Epoch 23/100\n",
      "32/32 [==============================] - 0s 2ms/step - loss: 0.5007 - accuracy: 0.8601 - val_loss: 0.4945 - val_accuracy: 0.8402\n",
      "Epoch 24/100\n",
      "32/32 [==============================] - 0s 2ms/step - loss: 0.4911 - accuracy: 0.8513 - val_loss: 0.4861 - val_accuracy: 0.8539\n",
      "Epoch 25/100\n",
      "32/32 [==============================] - 0s 2ms/step - loss: 0.4815 - accuracy: 0.8581 - val_loss: 0.4776 - val_accuracy: 0.8630\n",
      "Epoch 26/100\n",
      "32/32 [==============================] - 0s 2ms/step - loss: 0.4721 - accuracy: 0.8562 - val_loss: 0.4686 - val_accuracy: 0.8630\n",
      "Epoch 27/100\n",
      "32/32 [==============================] - 0s 3ms/step - loss: 0.4625 - accuracy: 0.8640 - val_loss: 0.4588 - val_accuracy: 0.8584\n",
      "Epoch 28/100\n",
      "32/32 [==============================] - 0s 2ms/step - loss: 0.4534 - accuracy: 0.8630 - val_loss: 0.4503 - val_accuracy: 0.8493\n",
      "Epoch 29/100\n",
      "32/32 [==============================] - 0s 2ms/step - loss: 0.4446 - accuracy: 0.8659 - val_loss: 0.4422 - val_accuracy: 0.8539\n",
      "Epoch 30/100\n",
      "32/32 [==============================] - 0s 2ms/step - loss: 0.4358 - accuracy: 0.8669 - val_loss: 0.4345 - val_accuracy: 0.8630\n",
      "Epoch 31/100\n",
      "32/32 [==============================] - 0s 2ms/step - loss: 0.4270 - accuracy: 0.8718 - val_loss: 0.4261 - val_accuracy: 0.8539\n",
      "Epoch 32/100\n",
      "32/32 [==============================] - 0s 2ms/step - loss: 0.4189 - accuracy: 0.8699 - val_loss: 0.4188 - val_accuracy: 0.8584\n",
      "Epoch 33/100\n",
      "32/32 [==============================] - 0s 2ms/step - loss: 0.4114 - accuracy: 0.8728 - val_loss: 0.4116 - val_accuracy: 0.8630\n",
      "Epoch 34/100\n",
      "32/32 [==============================] - 0s 2ms/step - loss: 0.4038 - accuracy: 0.8728 - val_loss: 0.4049 - val_accuracy: 0.8584\n",
      "Epoch 35/100\n",
      "32/32 [==============================] - 0s 2ms/step - loss: 0.3962 - accuracy: 0.8757 - val_loss: 0.3992 - val_accuracy: 0.8584\n",
      "Epoch 36/100\n",
      "32/32 [==============================] - 0s 2ms/step - loss: 0.3893 - accuracy: 0.8738 - val_loss: 0.3922 - val_accuracy: 0.8584\n",
      "Epoch 37/100\n",
      "32/32 [==============================] - 0s 2ms/step - loss: 0.3826 - accuracy: 0.8777 - val_loss: 0.3862 - val_accuracy: 0.8584\n",
      "Epoch 38/100\n",
      "32/32 [==============================] - 0s 2ms/step - loss: 0.3767 - accuracy: 0.8738 - val_loss: 0.3810 - val_accuracy: 0.8584\n",
      "Epoch 39/100\n",
      "32/32 [==============================] - 0s 2ms/step - loss: 0.3705 - accuracy: 0.8777 - val_loss: 0.3755 - val_accuracy: 0.8584\n",
      "Epoch 40/100\n",
      "32/32 [==============================] - 0s 2ms/step - loss: 0.3650 - accuracy: 0.8777 - val_loss: 0.3706 - val_accuracy: 0.8584\n",
      "Epoch 41/100\n",
      "32/32 [==============================] - 0s 2ms/step - loss: 0.3599 - accuracy: 0.8777 - val_loss: 0.3666 - val_accuracy: 0.8539\n",
      "Epoch 42/100\n",
      "32/32 [==============================] - 0s 2ms/step - loss: 0.3553 - accuracy: 0.8748 - val_loss: 0.3616 - val_accuracy: 0.8584\n",
      "Epoch 43/100\n",
      "32/32 [==============================] - 0s 2ms/step - loss: 0.3505 - accuracy: 0.8787 - val_loss: 0.3576 - val_accuracy: 0.8539\n",
      "Epoch 44/100\n",
      "32/32 [==============================] - 0s 2ms/step - loss: 0.3456 - accuracy: 0.8787 - val_loss: 0.3542 - val_accuracy: 0.8539\n",
      "Epoch 45/100\n",
      "32/32 [==============================] - 0s 2ms/step - loss: 0.3418 - accuracy: 0.8787 - val_loss: 0.3503 - val_accuracy: 0.8539\n",
      "Epoch 46/100\n",
      "32/32 [==============================] - 0s 2ms/step - loss: 0.3371 - accuracy: 0.8796 - val_loss: 0.3466 - val_accuracy: 0.8539\n",
      "Epoch 47/100\n",
      "32/32 [==============================] - 0s 2ms/step - loss: 0.3340 - accuracy: 0.8796 - val_loss: 0.3436 - val_accuracy: 0.8539\n",
      "Epoch 48/100\n",
      "32/32 [==============================] - 0s 2ms/step - loss: 0.3300 - accuracy: 0.8816 - val_loss: 0.3412 - val_accuracy: 0.8676\n",
      "Epoch 49/100\n",
      "32/32 [==============================] - 0s 2ms/step - loss: 0.3267 - accuracy: 0.8826 - val_loss: 0.3376 - val_accuracy: 0.8539\n",
      "Epoch 50/100\n",
      "32/32 [==============================] - 0s 2ms/step - loss: 0.3234 - accuracy: 0.8855 - val_loss: 0.3349 - val_accuracy: 0.8539\n",
      "Epoch 51/100\n",
      "32/32 [==============================] - 0s 2ms/step - loss: 0.3210 - accuracy: 0.8826 - val_loss: 0.3334 - val_accuracy: 0.8676\n",
      "Epoch 52/100\n",
      "32/32 [==============================] - 0s 2ms/step - loss: 0.3182 - accuracy: 0.8845 - val_loss: 0.3302 - val_accuracy: 0.8584\n",
      "Epoch 53/100\n",
      "32/32 [==============================] - 0s 2ms/step - loss: 0.3152 - accuracy: 0.8855 - val_loss: 0.3280 - val_accuracy: 0.8584\n",
      "Epoch 54/100\n",
      "32/32 [==============================] - 0s 2ms/step - loss: 0.3131 - accuracy: 0.8865 - val_loss: 0.3259 - val_accuracy: 0.8630\n",
      "Epoch 55/100\n",
      "32/32 [==============================] - 0s 2ms/step - loss: 0.3114 - accuracy: 0.8855 - val_loss: 0.3240 - val_accuracy: 0.8630\n",
      "Epoch 56/100\n",
      "32/32 [==============================] - 0s 2ms/step - loss: 0.3085 - accuracy: 0.8885 - val_loss: 0.3222 - val_accuracy: 0.8630\n",
      "Epoch 57/100\n",
      "32/32 [==============================] - 0s 2ms/step - loss: 0.3063 - accuracy: 0.8865 - val_loss: 0.3205 - val_accuracy: 0.8630\n",
      "Epoch 58/100\n",
      "32/32 [==============================] - 0s 2ms/step - loss: 0.3049 - accuracy: 0.8904 - val_loss: 0.3191 - val_accuracy: 0.8630\n"
     ]
    },
    {
     "name": "stdout",
     "output_type": "stream",
     "text": [
      "Epoch 59/100\n",
      "32/32 [==============================] - 0s 2ms/step - loss: 0.3027 - accuracy: 0.8894 - val_loss: 0.3175 - val_accuracy: 0.8630\n",
      "Epoch 60/100\n",
      "32/32 [==============================] - 0s 2ms/step - loss: 0.3009 - accuracy: 0.8885 - val_loss: 0.3167 - val_accuracy: 0.8630\n",
      "Epoch 61/100\n",
      "32/32 [==============================] - 0s 2ms/step - loss: 0.2996 - accuracy: 0.8904 - val_loss: 0.3147 - val_accuracy: 0.8630\n",
      "Epoch 62/100\n",
      "32/32 [==============================] - 0s 2ms/step - loss: 0.2977 - accuracy: 0.8894 - val_loss: 0.3134 - val_accuracy: 0.8676\n",
      "Epoch 63/100\n",
      "32/32 [==============================] - 0s 2ms/step - loss: 0.2956 - accuracy: 0.8894 - val_loss: 0.3138 - val_accuracy: 0.8630\n",
      "Epoch 64/100\n",
      "32/32 [==============================] - 0s 2ms/step - loss: 0.2945 - accuracy: 0.8933 - val_loss: 0.3113 - val_accuracy: 0.8630\n",
      "Epoch 65/100\n",
      "32/32 [==============================] - 0s 2ms/step - loss: 0.2928 - accuracy: 0.8904 - val_loss: 0.3110 - val_accuracy: 0.8630\n",
      "Epoch 66/100\n",
      "32/32 [==============================] - 0s 2ms/step - loss: 0.2913 - accuracy: 0.8943 - val_loss: 0.3087 - val_accuracy: 0.8721\n",
      "Epoch 67/100\n",
      "32/32 [==============================] - 0s 2ms/step - loss: 0.2903 - accuracy: 0.8904 - val_loss: 0.3087 - val_accuracy: 0.8630\n",
      "Epoch 68/100\n",
      "32/32 [==============================] - 0s 2ms/step - loss: 0.2889 - accuracy: 0.8933 - val_loss: 0.3065 - val_accuracy: 0.8721\n",
      "Epoch 69/100\n",
      "32/32 [==============================] - 0s 2ms/step - loss: 0.2882 - accuracy: 0.8914 - val_loss: 0.3056 - val_accuracy: 0.8721\n",
      "Epoch 70/100\n",
      "32/32 [==============================] - 0s 2ms/step - loss: 0.2868 - accuracy: 0.8865 - val_loss: 0.3057 - val_accuracy: 0.8676\n",
      "Epoch 71/100\n",
      "32/32 [==============================] - 0s 2ms/step - loss: 0.2857 - accuracy: 0.8904 - val_loss: 0.3038 - val_accuracy: 0.8767\n",
      "Epoch 72/100\n",
      "32/32 [==============================] - 0s 2ms/step - loss: 0.2847 - accuracy: 0.8943 - val_loss: 0.3030 - val_accuracy: 0.8767\n",
      "Epoch 73/100\n",
      "32/32 [==============================] - 0s 2ms/step - loss: 0.2836 - accuracy: 0.8953 - val_loss: 0.3022 - val_accuracy: 0.8767\n",
      "Epoch 74/100\n",
      "32/32 [==============================] - 0s 2ms/step - loss: 0.2824 - accuracy: 0.8894 - val_loss: 0.3020 - val_accuracy: 0.8676\n",
      "Epoch 75/100\n",
      "32/32 [==============================] - 0s 2ms/step - loss: 0.2826 - accuracy: 0.8924 - val_loss: 0.3008 - val_accuracy: 0.8767\n",
      "Epoch 76/100\n",
      "32/32 [==============================] - 0s 2ms/step - loss: 0.2814 - accuracy: 0.8914 - val_loss: 0.3003 - val_accuracy: 0.8676\n",
      "Epoch 77/100\n",
      "32/32 [==============================] - 0s 2ms/step - loss: 0.2803 - accuracy: 0.8953 - val_loss: 0.2996 - val_accuracy: 0.8676\n",
      "Epoch 78/100\n",
      "32/32 [==============================] - 0s 2ms/step - loss: 0.2786 - accuracy: 0.8904 - val_loss: 0.2988 - val_accuracy: 0.8813\n",
      "Epoch 79/100\n",
      "32/32 [==============================] - 0s 2ms/step - loss: 0.2781 - accuracy: 0.8914 - val_loss: 0.2981 - val_accuracy: 0.8813\n",
      "Epoch 80/100\n",
      "32/32 [==============================] - 0s 2ms/step - loss: 0.2773 - accuracy: 0.8924 - val_loss: 0.2974 - val_accuracy: 0.8813\n",
      "Epoch 81/100\n",
      "32/32 [==============================] - 0s 2ms/step - loss: 0.2770 - accuracy: 0.8924 - val_loss: 0.2972 - val_accuracy: 0.8767\n",
      "Epoch 82/100\n",
      "32/32 [==============================] - 0s 2ms/step - loss: 0.2761 - accuracy: 0.8933 - val_loss: 0.2960 - val_accuracy: 0.8767\n",
      "Epoch 83/100\n",
      "32/32 [==============================] - 0s 2ms/step - loss: 0.2752 - accuracy: 0.8963 - val_loss: 0.2954 - val_accuracy: 0.8813\n",
      "Epoch 84/100\n",
      "32/32 [==============================] - 0s 2ms/step - loss: 0.2745 - accuracy: 0.8924 - val_loss: 0.2949 - val_accuracy: 0.8813\n",
      "Epoch 85/100\n",
      "32/32 [==============================] - 0s 2ms/step - loss: 0.2738 - accuracy: 0.8924 - val_loss: 0.2956 - val_accuracy: 0.8767\n",
      "Epoch 86/100\n",
      "32/32 [==============================] - 0s 2ms/step - loss: 0.2726 - accuracy: 0.8933 - val_loss: 0.2942 - val_accuracy: 0.8858\n",
      "Epoch 87/100\n",
      "32/32 [==============================] - 0s 2ms/step - loss: 0.2721 - accuracy: 0.8914 - val_loss: 0.2933 - val_accuracy: 0.8767\n",
      "Epoch 88/100\n",
      "32/32 [==============================] - 0s 2ms/step - loss: 0.2719 - accuracy: 0.8894 - val_loss: 0.2935 - val_accuracy: 0.8767\n",
      "Epoch 89/100\n",
      "32/32 [==============================] - 0s 2ms/step - loss: 0.2712 - accuracy: 0.8933 - val_loss: 0.2923 - val_accuracy: 0.8858\n",
      "Epoch 90/100\n",
      "32/32 [==============================] - 0s 2ms/step - loss: 0.2708 - accuracy: 0.8943 - val_loss: 0.2921 - val_accuracy: 0.8767\n",
      "Epoch 91/100\n",
      "32/32 [==============================] - 0s 2ms/step - loss: 0.2694 - accuracy: 0.8943 - val_loss: 0.2939 - val_accuracy: 0.8813\n",
      "Epoch 92/100\n",
      "32/32 [==============================] - 0s 3ms/step - loss: 0.2700 - accuracy: 0.8953 - val_loss: 0.2910 - val_accuracy: 0.8813\n",
      "Epoch 93/100\n",
      "32/32 [==============================] - 0s 2ms/step - loss: 0.2683 - accuracy: 0.8943 - val_loss: 0.2926 - val_accuracy: 0.8904\n",
      "Epoch 94/100\n",
      "32/32 [==============================] - 0s 2ms/step - loss: 0.2692 - accuracy: 0.8924 - val_loss: 0.2899 - val_accuracy: 0.8950\n",
      "Epoch 95/100\n",
      "32/32 [==============================] - 0s 2ms/step - loss: 0.2686 - accuracy: 0.8933 - val_loss: 0.2894 - val_accuracy: 0.8950\n",
      "Epoch 96/100\n",
      "32/32 [==============================] - 0s 2ms/step - loss: 0.2681 - accuracy: 0.8943 - val_loss: 0.2902 - val_accuracy: 0.8767\n",
      "Epoch 97/100\n",
      "32/32 [==============================] - 0s 2ms/step - loss: 0.2671 - accuracy: 0.8963 - val_loss: 0.2887 - val_accuracy: 0.8904\n",
      "Epoch 98/100\n",
      "32/32 [==============================] - 0s 2ms/step - loss: 0.2661 - accuracy: 0.8963 - val_loss: 0.2886 - val_accuracy: 0.8813\n",
      "Epoch 99/100\n",
      "32/32 [==============================] - 0s 2ms/step - loss: 0.2664 - accuracy: 0.8943 - val_loss: 0.2878 - val_accuracy: 0.8950\n",
      "Epoch 100/100\n",
      "32/32 [==============================] - 0s 2ms/step - loss: 0.2650 - accuracy: 0.8943 - val_loss: 0.2887 - val_accuracy: 0.8767\n"
     ]
    }
   ],
   "source": [
    "hist=model.fit(X_egitim, Y_egitim, batch_size=32, epochs=100, validation_data=(X_dogrulama, Y_dogrulama))"
   ]
  },
  {
   "cell_type": "code",
   "execution_count": null,
   "id": "5ea577c4",
   "metadata": {},
   "outputs": [],
   "source": []
  },
  {
   "cell_type": "code",
   "execution_count": 44,
   "id": "fbde8a35",
   "metadata": {},
   "outputs": [
    {
     "name": "stdout",
     "output_type": "stream",
     "text": [
      "7/7 [==============================] - 0s 1ms/step - loss: 0.2858 - accuracy: 0.8721\n"
     ]
    },
    {
     "data": {
      "text/plain": [
       "0.8721461296081543"
      ]
     },
     "execution_count": 44,
     "metadata": {},
     "output_type": "execute_result"
    }
   ],
   "source": [
    "# Test setindeki doğruluğu görmek için:\n",
    "model.evaluate(X_test, Y_test)[1]"
   ]
  },
  {
   "cell_type": "code",
   "execution_count": 45,
   "id": "e2979058",
   "metadata": {},
   "outputs": [],
   "source": [
    "# Not: model.avaluate fonksişyonundan sonra 1 endeksine sahip olmamızın nedeni fonksiyonun kaybı ilk öge olarak ve doruluğu ikinci öge olarak döndürmesidir.\n",
    "# İlk öge 0'dan indekslmeye başladığından 1 ile indekslenir."
   ]
  },
  {
   "cell_type": "markdown",
   "id": "2e113159",
   "metadata": {},
   "source": [
    "###### Kaybı ve Doğruluğu Görselleştirme"
   ]
  },
  {
   "cell_type": "code",
   "execution_count": 46,
   "id": "4b2d7700",
   "metadata": {},
   "outputs": [],
   "source": [
    "import matplotlib.pyplot as plt"
   ]
  },
  {
   "cell_type": "code",
   "execution_count": 47,
   "id": "de2db637",
   "metadata": {},
   "outputs": [
    {
     "data": {
      "image/png": "[encoded data removed]",
      "text/plain": [
       "<Figure size 432x288 with 1 Axes>"
      ]
     },
     "metadata": {
      "needs_background": "light"
     },
     "output_type": "display_data"
    }
   ],
   "source": [
    "plt.plot(hist.history[\"loss\"])\n",
    "plt.plot(hist.history[\"val_loss\"])\n",
    "plt.title(\"Model kayıp değerleri\")\n",
    "plt.ylabel(\"Kayıp\")\n",
    "plt.xlabel(\"Epoch\")\n",
    "plt.legend([\"Eğitim\",\"Doğrulama\"], loc=\"upper right\")\n",
    "plt.show()"
   ]
  },
  {
   "cell_type": "code",
   "execution_count": null,
   "id": "a4660569",
   "metadata": {},
   "outputs": [],
   "source": []
  },
  {
   "cell_type": "code",
   "execution_count": 48,
   "id": "b51f49d0",
   "metadata": {},
   "outputs": [
    {
     "data": {
      "image/png": "[encoded data removed]",
      "text/plain": [
       "<Figure size 432x288 with 1 Axes>"
      ]
     },
     "metadata": {
      "needs_background": "light"
     },
     "output_type": "display_data"
    }
   ],
   "source": [
    "plt.plot(hist.history[\"accuracy\"])\n",
    "plt.plot(hist.history[\"val_accuracy\"])\n",
    "plt.title(\"Model doğruluğu\")\n",
    "plt.ylabel(\"Doğruluk\")\n",
    "plt.xlabel(\"Epoch\")\n",
    "plt.legend([\"Eğitim\",\"Doğrulama\"], loc=\"lower right\")\n",
    "plt.show()"
   ]
  },
  {
   "cell_type": "markdown",
   "id": "20c05d28",
   "metadata": {},
   "source": [
    "Yorum: Eğitim setindeki modelimizdeki gelişmeler, doğrulama setindeki gelişmelerle biraz eşleştiğinden, modelimizde aşırı eğitim büyük bir sorun gibi görünmüyor."
   ]
  },
  {
   "cell_type": "code",
   "execution_count": null,
   "id": "7e605dbf",
   "metadata": {},
   "outputs": [],
   "source": []
  },
  {
   "cell_type": "markdown",
   "id": "436d8c24",
   "metadata": {},
   "source": [
    "Sinir ağına düzenlilik ekleme"
   ]
  },
  {
   "cell_type": "code",
   "execution_count": 49,
   "id": "cd326bf9",
   "metadata": {},
   "outputs": [],
   "source": [
    "# Sinir ağımıza düzenlilik kazandırmak için, eğitim setimize kötü bir şekilde uyacak bir sinir ağı ile formüle edelim.\n",
    "# Bu modeli de 2 olarak adlandıralım."
   ]
  },
  {
   "cell_type": "code",
   "execution_count": 50,
   "id": "ada7d779",
   "metadata": {},
   "outputs": [
    {
     "name": "stdout",
     "output_type": "stream",
     "text": [
      "Epoch 1/100\n",
      "32/32 [==============================] - 2s 34ms/step - loss: 0.4678 - accuracy: 0.7906 - val_loss: 0.4319 - val_accuracy: 0.8311\n",
      "Epoch 2/100\n",
      "32/32 [==============================] - 1s 32ms/step - loss: 0.3687 - accuracy: 0.8405 - val_loss: 0.3597 - val_accuracy: 0.8311\n",
      "Epoch 3/100\n",
      "32/32 [==============================] - 1s 29ms/step - loss: 0.2971 - accuracy: 0.8728 - val_loss: 0.3223 - val_accuracy: 0.8493\n",
      "Epoch 4/100\n",
      "32/32 [==============================] - 1s 29ms/step - loss: 0.2731 - accuracy: 0.8933 - val_loss: 0.3413 - val_accuracy: 0.8630\n",
      "Epoch 5/100\n",
      "32/32 [==============================] - 1s 30ms/step - loss: 0.2849 - accuracy: 0.8738 - val_loss: 0.3333 - val_accuracy: 0.8813\n",
      "Epoch 6/100\n",
      "32/32 [==============================] - 1s 29ms/step - loss: 0.2612 - accuracy: 0.8885 - val_loss: 0.3770 - val_accuracy: 0.8447\n",
      "Epoch 7/100\n",
      "32/32 [==============================] - 1s 31ms/step - loss: 0.2699 - accuracy: 0.8943 - val_loss: 0.2984 - val_accuracy: 0.8767\n",
      "Epoch 8/100\n",
      "32/32 [==============================] - 1s 30ms/step - loss: 0.2338 - accuracy: 0.9022 - val_loss: 0.2765 - val_accuracy: 0.8950\n",
      "Epoch 9/100\n",
      "32/32 [==============================] - 1s 29ms/step - loss: 0.2755 - accuracy: 0.8914 - val_loss: 0.2995 - val_accuracy: 0.8721\n",
      "Epoch 10/100\n",
      "32/32 [==============================] - 1s 29ms/step - loss: 0.2525 - accuracy: 0.8894 - val_loss: 0.2923 - val_accuracy: 0.8813\n",
      "Epoch 11/100\n",
      "32/32 [==============================] - 1s 28ms/step - loss: 0.2303 - accuracy: 0.9022 - val_loss: 0.3013 - val_accuracy: 0.8767\n",
      "Epoch 12/100\n",
      "32/32 [==============================] - 1s 28ms/step - loss: 0.2227 - accuracy: 0.8973 - val_loss: 0.2998 - val_accuracy: 0.8904\n",
      "Epoch 13/100\n",
      "32/32 [==============================] - 1s 29ms/step - loss: 0.2260 - accuracy: 0.9070 - val_loss: 0.2789 - val_accuracy: 0.8904\n",
      "Epoch 14/100\n",
      "32/32 [==============================] - 1s 29ms/step - loss: 0.2123 - accuracy: 0.9080 - val_loss: 0.2795 - val_accuracy: 0.8858\n",
      "Epoch 15/100\n",
      "32/32 [==============================] - 1s 28ms/step - loss: 0.2078 - accuracy: 0.9061 - val_loss: 0.2956 - val_accuracy: 0.8813\n",
      "Epoch 16/100\n",
      "32/32 [==============================] - 1s 28ms/step - loss: 0.2009 - accuracy: 0.9119 - val_loss: 0.3873 - val_accuracy: 0.8447\n",
      "Epoch 17/100\n",
      "32/32 [==============================] - 1s 28ms/step - loss: 0.2048 - accuracy: 0.9110 - val_loss: 0.3243 - val_accuracy: 0.8356\n",
      "Epoch 18/100\n",
      "32/32 [==============================] - 1s 29ms/step - loss: 0.2089 - accuracy: 0.9159 - val_loss: 0.2762 - val_accuracy: 0.8813\n",
      "Epoch 19/100\n",
      "32/32 [==============================] - 1s 30ms/step - loss: 0.2124 - accuracy: 0.9217 - val_loss: 0.2870 - val_accuracy: 0.8904\n",
      "Epoch 20/100\n",
      "32/32 [==============================] - 1s 32ms/step - loss: 0.2132 - accuracy: 0.9080 - val_loss: 0.3023 - val_accuracy: 0.8767\n",
      "Epoch 21/100\n",
      "32/32 [==============================] - 1s 35ms/step - loss: 0.1906 - accuracy: 0.9188 - val_loss: 0.3125 - val_accuracy: 0.8904\n",
      "Epoch 22/100\n",
      "32/32 [==============================] - 1s 35ms/step - loss: 0.1883 - accuracy: 0.9227 - val_loss: 0.2976 - val_accuracy: 0.8995\n",
      "Epoch 23/100\n",
      "32/32 [==============================] - 1s 35ms/step - loss: 0.1863 - accuracy: 0.9256 - val_loss: 0.2936 - val_accuracy: 0.8904\n",
      "Epoch 24/100\n",
      "32/32 [==============================] - 1s 35ms/step - loss: 0.1818 - accuracy: 0.9188 - val_loss: 0.3261 - val_accuracy: 0.8813\n",
      "Epoch 25/100\n",
      "32/32 [==============================] - 1s 32ms/step - loss: 0.1693 - accuracy: 0.9188 - val_loss: 0.3345 - val_accuracy: 0.8858\n",
      "Epoch 26/100\n",
      "32/32 [==============================] - 1s 32ms/step - loss: 0.1952 - accuracy: 0.9159 - val_loss: 0.2947 - val_accuracy: 0.8995\n",
      "Epoch 27/100\n",
      "32/32 [==============================] - 1s 33ms/step - loss: 0.1998 - accuracy: 0.9129 - val_loss: 0.3570 - val_accuracy: 0.8630\n",
      "Epoch 28/100\n",
      "32/32 [==============================] - 1s 33ms/step - loss: 0.2060 - accuracy: 0.9178 - val_loss: 0.3251 - val_accuracy: 0.8950\n",
      "Epoch 29/100\n",
      "32/32 [==============================] - 1s 33ms/step - loss: 0.2001 - accuracy: 0.9139 - val_loss: 0.3417 - val_accuracy: 0.8493\n",
      "Epoch 30/100\n",
      "32/32 [==============================] - 1s 34ms/step - loss: 0.1727 - accuracy: 0.9188 - val_loss: 0.3215 - val_accuracy: 0.8813\n",
      "Epoch 31/100\n",
      "32/32 [==============================] - 1s 36ms/step - loss: 0.1823 - accuracy: 0.9227 - val_loss: 0.3068 - val_accuracy: 0.8813\n",
      "Epoch 32/100\n",
      "32/32 [==============================] - 1s 33ms/step - loss: 0.1863 - accuracy: 0.9168 - val_loss: 0.3060 - val_accuracy: 0.8858\n",
      "Epoch 33/100\n",
      "32/32 [==============================] - 1s 34ms/step - loss: 0.1654 - accuracy: 0.9247 - val_loss: 0.3201 - val_accuracy: 0.8904\n",
      "Epoch 34/100\n",
      "32/32 [==============================] - 1s 32ms/step - loss: 0.1700 - accuracy: 0.9276 - val_loss: 0.3367 - val_accuracy: 0.8904\n",
      "Epoch 35/100\n",
      "32/32 [==============================] - 1s 34ms/step - loss: 0.1748 - accuracy: 0.9198 - val_loss: 0.3581 - val_accuracy: 0.8584\n",
      "Epoch 36/100\n",
      "32/32 [==============================] - 1s 32ms/step - loss: 0.1693 - accuracy: 0.9266 - val_loss: 0.3252 - val_accuracy: 0.8858\n",
      "Epoch 37/100\n",
      "32/32 [==============================] - 1s 31ms/step - loss: 0.1738 - accuracy: 0.9227 - val_loss: 0.3113 - val_accuracy: 0.8676\n",
      "Epoch 38/100\n",
      "32/32 [==============================] - 1s 32ms/step - loss: 0.1985 - accuracy: 0.9139 - val_loss: 0.3424 - val_accuracy: 0.8767\n",
      "Epoch 39/100\n",
      "32/32 [==============================] - 1s 31ms/step - loss: 0.1636 - accuracy: 0.9344 - val_loss: 0.3287 - val_accuracy: 0.8950\n",
      "Epoch 40/100\n",
      "32/32 [==============================] - 1s 30ms/step - loss: 0.1551 - accuracy: 0.9286 - val_loss: 0.3379 - val_accuracy: 0.8767\n",
      "Epoch 41/100\n",
      "32/32 [==============================] - 1s 31ms/step - loss: 0.1638 - accuracy: 0.9286 - val_loss: 0.3759 - val_accuracy: 0.8493\n",
      "Epoch 42/100\n",
      "32/32 [==============================] - 1s 31ms/step - loss: 0.1803 - accuracy: 0.9227 - val_loss: 0.3719 - val_accuracy: 0.8584\n",
      "Epoch 43/100\n",
      "32/32 [==============================] - 1s 31ms/step - loss: 0.1556 - accuracy: 0.9354 - val_loss: 0.3922 - val_accuracy: 0.8767\n",
      "Epoch 44/100\n",
      "32/32 [==============================] - 1s 30ms/step - loss: 0.1614 - accuracy: 0.9335 - val_loss: 0.4064 - val_accuracy: 0.8813\n",
      "Epoch 45/100\n",
      "32/32 [==============================] - 1s 30ms/step - loss: 0.1753 - accuracy: 0.9266 - val_loss: 0.3464 - val_accuracy: 0.8813\n",
      "Epoch 46/100\n",
      "32/32 [==============================] - 1s 31ms/step - loss: 0.1524 - accuracy: 0.9354 - val_loss: 0.3802 - val_accuracy: 0.9132\n",
      "Epoch 47/100\n",
      "32/32 [==============================] - 1s 30ms/step - loss: 0.1550 - accuracy: 0.9384 - val_loss: 0.3828 - val_accuracy: 0.8858\n",
      "Epoch 48/100\n",
      "32/32 [==============================] - 1s 30ms/step - loss: 0.1736 - accuracy: 0.9344 - val_loss: 0.4227 - val_accuracy: 0.8767\n",
      "Epoch 49/100\n",
      "32/32 [==============================] - 1s 30ms/step - loss: 0.1945 - accuracy: 0.9061 - val_loss: 0.3585 - val_accuracy: 0.8721\n",
      "Epoch 50/100\n",
      "32/32 [==============================] - 1s 31ms/step - loss: 0.1645 - accuracy: 0.9325 - val_loss: 0.3495 - val_accuracy: 0.8995\n",
      "Epoch 51/100\n",
      "32/32 [==============================] - 1s 32ms/step - loss: 0.1779 - accuracy: 0.9266 - val_loss: 0.3480 - val_accuracy: 0.8950\n",
      "Epoch 52/100\n",
      "32/32 [==============================] - 1s 32ms/step - loss: 0.1813 - accuracy: 0.9315 - val_loss: 0.3353 - val_accuracy: 0.8767\n",
      "Epoch 53/100\n",
      "32/32 [==============================] - 1s 32ms/step - loss: 0.1526 - accuracy: 0.9364 - val_loss: 0.4377 - val_accuracy: 0.8904\n",
      "Epoch 54/100\n",
      "32/32 [==============================] - 1s 32ms/step - loss: 0.1616 - accuracy: 0.9335 - val_loss: 0.4020 - val_accuracy: 0.8858\n",
      "Epoch 55/100\n",
      "32/32 [==============================] - 1s 30ms/step - loss: 0.1599 - accuracy: 0.9305 - val_loss: 0.3388 - val_accuracy: 0.8950\n",
      "Epoch 56/100\n",
      "32/32 [==============================] - 1s 31ms/step - loss: 0.1325 - accuracy: 0.9462 - val_loss: 0.3329 - val_accuracy: 0.8950\n",
      "Epoch 57/100\n",
      "32/32 [==============================] - 1s 30ms/step - loss: 0.1325 - accuracy: 0.9452 - val_loss: 0.4186 - val_accuracy: 0.8584\n",
      "Epoch 58/100\n"
     ]
    },
    {
     "name": "stdout",
     "output_type": "stream",
     "text": [
      "32/32 [==============================] - 1s 30ms/step - loss: 0.1425 - accuracy: 0.9315 - val_loss: 0.3664 - val_accuracy: 0.9178\n",
      "Epoch 59/100\n",
      "32/32 [==============================] - 1s 30ms/step - loss: 0.1471 - accuracy: 0.9374 - val_loss: 0.3914 - val_accuracy: 0.9041\n",
      "Epoch 60/100\n",
      "32/32 [==============================] - 1s 31ms/step - loss: 0.1309 - accuracy: 0.9432 - val_loss: 0.4021 - val_accuracy: 0.8858\n",
      "Epoch 61/100\n",
      "32/32 [==============================] - 1s 30ms/step - loss: 0.1450 - accuracy: 0.9335 - val_loss: 0.4425 - val_accuracy: 0.8767\n",
      "Epoch 62/100\n",
      "32/32 [==============================] - 1s 33ms/step - loss: 0.1460 - accuracy: 0.9364 - val_loss: 0.3500 - val_accuracy: 0.8858\n",
      "Epoch 63/100\n",
      "32/32 [==============================] - 1s 30ms/step - loss: 0.1330 - accuracy: 0.9413 - val_loss: 0.3784 - val_accuracy: 0.8995\n",
      "Epoch 64/100\n",
      "32/32 [==============================] - 1s 30ms/step - loss: 0.1275 - accuracy: 0.9442 - val_loss: 0.4074 - val_accuracy: 0.8995\n",
      "Epoch 65/100\n",
      "32/32 [==============================] - 1s 30ms/step - loss: 0.1299 - accuracy: 0.9452 - val_loss: 0.3893 - val_accuracy: 0.9132\n",
      "Epoch 66/100\n",
      "32/32 [==============================] - 1s 32ms/step - loss: 0.1371 - accuracy: 0.9403 - val_loss: 0.4299 - val_accuracy: 0.8767\n",
      "Epoch 67/100\n",
      "32/32 [==============================] - 1s 32ms/step - loss: 0.1961 - accuracy: 0.9217 - val_loss: 0.3927 - val_accuracy: 0.8858\n",
      "Epoch 68/100\n",
      "32/32 [==============================] - 1s 32ms/step - loss: 0.1355 - accuracy: 0.9384 - val_loss: 0.3811 - val_accuracy: 0.8813\n",
      "Epoch 69/100\n",
      "32/32 [==============================] - 1s 35ms/step - loss: 0.1267 - accuracy: 0.9472 - val_loss: 0.4074 - val_accuracy: 0.8858\n",
      "Epoch 70/100\n",
      "32/32 [==============================] - 1s 32ms/step - loss: 0.1105 - accuracy: 0.9511 - val_loss: 0.3942 - val_accuracy: 0.8950\n",
      "Epoch 71/100\n",
      "32/32 [==============================] - 1s 32ms/step - loss: 0.1232 - accuracy: 0.9511 - val_loss: 0.4624 - val_accuracy: 0.8950\n",
      "Epoch 72/100\n",
      "32/32 [==============================] - 1s 31ms/step - loss: 0.1225 - accuracy: 0.9432 - val_loss: 0.4506 - val_accuracy: 0.8858\n",
      "Epoch 73/100\n",
      "32/32 [==============================] - 1s 31ms/step - loss: 0.1174 - accuracy: 0.9560 - val_loss: 0.4610 - val_accuracy: 0.9087\n",
      "Epoch 74/100\n",
      "32/32 [==============================] - 1s 33ms/step - loss: 0.1425 - accuracy: 0.9423 - val_loss: 0.4692 - val_accuracy: 0.8858\n",
      "Epoch 75/100\n",
      "32/32 [==============================] - 1s 35ms/step - loss: 0.1325 - accuracy: 0.9472 - val_loss: 0.5392 - val_accuracy: 0.8904\n",
      "Epoch 76/100\n",
      "32/32 [==============================] - 1s 31ms/step - loss: 0.1139 - accuracy: 0.9550 - val_loss: 0.4401 - val_accuracy: 0.8767\n",
      "Epoch 77/100\n",
      "32/32 [==============================] - 1s 38ms/step - loss: 0.1281 - accuracy: 0.9413 - val_loss: 0.5125 - val_accuracy: 0.8767\n",
      "Epoch 78/100\n",
      "32/32 [==============================] - 1s 35ms/step - loss: 0.1348 - accuracy: 0.9423 - val_loss: 0.4517 - val_accuracy: 0.8950\n",
      "Epoch 79/100\n",
      "32/32 [==============================] - 1s 32ms/step - loss: 0.1425 - accuracy: 0.9413 - val_loss: 0.3625 - val_accuracy: 0.9178\n",
      "Epoch 80/100\n",
      "32/32 [==============================] - 1s 31ms/step - loss: 0.1371 - accuracy: 0.9374 - val_loss: 0.4524 - val_accuracy: 0.8950\n",
      "Epoch 81/100\n",
      "32/32 [==============================] - 1s 33ms/step - loss: 0.1282 - accuracy: 0.9472 - val_loss: 0.5092 - val_accuracy: 0.8721\n",
      "Epoch 82/100\n",
      "32/32 [==============================] - 1s 34ms/step - loss: 0.1108 - accuracy: 0.9481 - val_loss: 0.4950 - val_accuracy: 0.9041\n",
      "Epoch 83/100\n",
      "32/32 [==============================] - 1s 33ms/step - loss: 0.1122 - accuracy: 0.9521 - val_loss: 0.5120 - val_accuracy: 0.8767\n",
      "Epoch 84/100\n",
      "32/32 [==============================] - 1s 38ms/step - loss: 0.1111 - accuracy: 0.9521 - val_loss: 0.5350 - val_accuracy: 0.8721\n",
      "Epoch 85/100\n",
      "32/32 [==============================] - 1s 35ms/step - loss: 0.1365 - accuracy: 0.9413 - val_loss: 0.4488 - val_accuracy: 0.8904\n",
      "Epoch 86/100\n",
      "32/32 [==============================] - 1s 34ms/step - loss: 0.1577 - accuracy: 0.9384 - val_loss: 0.5719 - val_accuracy: 0.8858\n",
      "Epoch 87/100\n",
      "32/32 [==============================] - 1s 33ms/step - loss: 0.1248 - accuracy: 0.9560 - val_loss: 0.4761 - val_accuracy: 0.9041\n",
      "Epoch 88/100\n",
      "32/32 [==============================] - 1s 31ms/step - loss: 0.1282 - accuracy: 0.9511 - val_loss: 0.4592 - val_accuracy: 0.8904\n",
      "Epoch 89/100\n",
      "32/32 [==============================] - 1s 36ms/step - loss: 0.1053 - accuracy: 0.9579 - val_loss: 0.5147 - val_accuracy: 0.8858\n",
      "Epoch 90/100\n",
      "32/32 [==============================] - 1s 40ms/step - loss: 0.0997 - accuracy: 0.9560 - val_loss: 0.5330 - val_accuracy: 0.8995\n",
      "Epoch 91/100\n",
      "32/32 [==============================] - 1s 36ms/step - loss: 0.1351 - accuracy: 0.9423 - val_loss: 0.4215 - val_accuracy: 0.9132\n",
      "Epoch 92/100\n",
      "32/32 [==============================] - 1s 36ms/step - loss: 0.1188 - accuracy: 0.9452 - val_loss: 0.5331 - val_accuracy: 0.8904\n",
      "Epoch 93/100\n",
      "32/32 [==============================] - 1s 39ms/step - loss: 0.1128 - accuracy: 0.9540 - val_loss: 0.4760 - val_accuracy: 0.8813\n",
      "Epoch 94/100\n",
      "32/32 [==============================] - 1s 34ms/step - loss: 0.1117 - accuracy: 0.9530 - val_loss: 0.4586 - val_accuracy: 0.8904\n",
      "Epoch 95/100\n",
      "32/32 [==============================] - 1s 36ms/step - loss: 0.1217 - accuracy: 0.9540 - val_loss: 0.4405 - val_accuracy: 0.9041\n",
      "Epoch 96/100\n",
      "32/32 [==============================] - 1s 36ms/step - loss: 0.1498 - accuracy: 0.9393 - val_loss: 0.3978 - val_accuracy: 0.8904\n",
      "Epoch 97/100\n",
      "32/32 [==============================] - 1s 36ms/step - loss: 0.1056 - accuracy: 0.9599 - val_loss: 0.5458 - val_accuracy: 0.8858\n",
      "Epoch 98/100\n",
      "32/32 [==============================] - 1s 35ms/step - loss: 0.1067 - accuracy: 0.9599 - val_loss: 0.4417 - val_accuracy: 0.8995\n",
      "Epoch 99/100\n",
      "32/32 [==============================] - 1s 35ms/step - loss: 0.0951 - accuracy: 0.9589 - val_loss: 0.5065 - val_accuracy: 0.9132\n",
      "Epoch 100/100\n",
      "32/32 [==============================] - 1s 39ms/step - loss: 0.0864 - accuracy: 0.9677 - val_loss: 0.6355 - val_accuracy: 0.8858\n"
     ]
    }
   ],
   "source": [
    "model_2 = Sequential([\n",
    "    Dense(1000, activation=\"relu\", input_shape=(10,)),\n",
    "    Dense(1000, activation=\"relu\"),\n",
    "    Dense(1000, activation=\"relu\"),\n",
    "    Dense(1000, activation=\"relu\"),\n",
    "    Dense(1, activation=\"sigmoid\"),\n",
    "])\n",
    "\n",
    "model_2.compile(optimizer=\"adam\",\n",
    "               loss=\"binary_crossentropy\",\n",
    "               metrics=[\"accuracy\"]\n",
    "               )\n",
    "\n",
    "hist_2=model_2.fit(X_egitim, Y_egitim, \n",
    "                   batch_size=32, epochs=100, \n",
    "                   validation_data=(X_dogrulama, Y_dogrulama))"
   ]
  },
  {
   "cell_type": "code",
   "execution_count": 51,
   "id": "a6d07148",
   "metadata": {},
   "outputs": [
    {
     "data": {
      "image/png": "[encoded data removed]",
      "text/plain": [
       "<Figure size 432x288 with 1 Axes>"
      ]
     },
     "metadata": {
      "needs_background": "light"
     },
     "output_type": "display_data"
    }
   ],
   "source": [
    "plt.plot(hist_2.history[\"loss\"])\n",
    "plt.plot(hist_2.history[\"val_loss\"])\n",
    "plt.title(\"Model kayıp değerleri\")\n",
    "plt.ylabel(\"Kayıp\")\n",
    "plt.xlabel(\"Epoch\")\n",
    "plt.legend([\"Eğitim\",\"Doğrulama\"], loc=\"upper left\")\n",
    "plt.show()"
   ]
  },
  {
   "cell_type": "markdown",
   "id": "4ad369b1",
   "metadata": {},
   "source": [
    " Yorum: Yukarıdaki grafik aşırı uyumun açık bir işaretidir. Eğitim veri seti için \n",
    "kayıp azalırken, doğrulama veri seti için kayıp eğitim veri seti için kaybın\n",
    "çok üsütnde ve artıyor."
   ]
  },
  {
   "cell_type": "code",
   "execution_count": 52,
   "id": "1250e332",
   "metadata": {},
   "outputs": [
    {
     "data": {
      "image/png": "[encoded data removed]",
      "text/plain": [
       "<Figure size 432x288 with 1 Axes>"
      ]
     },
     "metadata": {
      "needs_background": "light"
     },
     "output_type": "display_data"
    }
   ],
   "source": [
    "# Doğruluk için;\n",
    "plt.plot(hist_2.history[\"accuracy\"])\n",
    "plt.plot(hist_2.history[\"val_accuracy\"])\n",
    "plt.title(\"Model doğruluğu\")\n",
    "plt.ylabel(\"Doğruluk\")\n",
    "plt.xlabel(\"Epoch\")\n",
    "plt.legend([\"Eğitim\",\"Doğrulama\"], loc=\"lower right\")\n",
    "plt.show()"
   ]
  },
  {
   "cell_type": "markdown",
   "id": "7a920664",
   "metadata": {},
   "source": [
    " Yorum: Eğitim ve doğrulama veri setleri için doğruluk değeri arasında da daha net bir sapma görülebilir. Bu da aşırı eğitim problemini göstermektedir."
   ]
  },
  {
   "cell_type": "code",
   "execution_count": null,
   "id": "b25973a3",
   "metadata": {},
   "outputs": [],
   "source": []
  },
  {
   "cell_type": "markdown",
   "id": "915eb2dc",
   "metadata": {},
   "source": [
    " Şimdi aşırı eğitimi azaltmak için bazı stratejileri deneyelim(mimarimizi ilk modelimize geri döndürmenin yerine)"
   ]
  },
  {
   "cell_type": "code",
   "execution_count": 59,
   "id": "c9530d98",
   "metadata": {},
   "outputs": [],
   "source": [
    "from keras.layers import Dropout\n",
    "from keras import regularizers"
   ]
  },
  {
   "cell_type": "code",
   "execution_count": 60,
   "id": "3323f696",
   "metadata": {},
   "outputs": [],
   "source": [
    "model_3 = Sequential([\n",
    "    Dense(1000, activation=\"relu\", kernel_regularizer=regularizers.l2(0.01), input_shape=(10,)),\n",
    "    Dropout(0.3),    # cezalandirma terimi\n",
    "    Dense(1000, activation=\"relu\", kernel_regularizer=regularizers.l2(0.01)),\n",
    "    Dropout(0.3),\n",
    "    Dense(1000, activation=\"relu\", kernel_regularizer=regularizers.l2(0.01)),\n",
    "    Dropout(0.3),\n",
    "    Dense(1000, activation=\"relu\", kernel_regularizer=regularizers.l2(0.01)),\n",
    "    Dropout(0.3),\n",
    "    Dense(1, activation=\"sigmoid\", kernel_regularizer=regularizers.l2(0.01)),\n",
    "])"
   ]
  },
  {
   "cell_type": "code",
   "execution_count": 61,
   "id": "1f40d541",
   "metadata": {},
   "outputs": [
    {
     "name": "stdout",
     "output_type": "stream",
     "text": [
      "Epoch 1/100\n",
      "32/32 [==============================] - 3s 57ms/step - loss: 14.2269 - accuracy: 0.6859 - val_loss: 3.8679 - val_accuracy: 0.8539\n",
      "Epoch 2/100\n",
      "32/32 [==============================] - 2s 48ms/step - loss: 1.6641 - accuracy: 0.8454 - val_loss: 0.6665 - val_accuracy: 0.8630\n",
      "Epoch 3/100\n",
      "32/32 [==============================] - 1s 47ms/step - loss: 0.5629 - accuracy: 0.8699 - val_loss: 0.5880 - val_accuracy: 0.8356\n",
      "Epoch 4/100\n",
      "32/32 [==============================] - 2s 47ms/step - loss: 0.5304 - accuracy: 0.8679 - val_loss: 0.5423 - val_accuracy: 0.8356\n",
      "Epoch 5/100\n",
      "32/32 [==============================] - 2s 47ms/step - loss: 0.4792 - accuracy: 0.8885 - val_loss: 0.4960 - val_accuracy: 0.8721\n",
      "Epoch 6/100\n",
      "32/32 [==============================] - 1s 43ms/step - loss: 0.4973 - accuracy: 0.8601 - val_loss: 0.5049 - val_accuracy: 0.8539\n",
      "Epoch 7/100\n",
      "32/32 [==============================] - 1s 46ms/step - loss: 0.5217 - accuracy: 0.8591 - val_loss: 0.5686 - val_accuracy: 0.8356\n",
      "Epoch 8/100\n",
      "32/32 [==============================] - 2s 47ms/step - loss: 0.4698 - accuracy: 0.8767 - val_loss: 0.4593 - val_accuracy: 0.8950\n",
      "Epoch 9/100\n",
      "32/32 [==============================] - 1s 46ms/step - loss: 0.4621 - accuracy: 0.8796 - val_loss: 0.4602 - val_accuracy: 0.8995\n",
      "Epoch 10/100\n",
      "32/32 [==============================] - 1s 45ms/step - loss: 0.4797 - accuracy: 0.8728 - val_loss: 0.4596 - val_accuracy: 0.8950\n",
      "Epoch 11/100\n",
      "32/32 [==============================] - 1s 44ms/step - loss: 0.4602 - accuracy: 0.8816 - val_loss: 0.4596 - val_accuracy: 0.8813\n",
      "Epoch 12/100\n",
      "32/32 [==============================] - 1s 47ms/step - loss: 0.4539 - accuracy: 0.8845 - val_loss: 0.4504 - val_accuracy: 0.9087\n",
      "Epoch 13/100\n",
      "32/32 [==============================] - 1s 46ms/step - loss: 0.4426 - accuracy: 0.8894 - val_loss: 0.4482 - val_accuracy: 0.8950\n",
      "Epoch 14/100\n",
      "32/32 [==============================] - 1s 45ms/step - loss: 0.4435 - accuracy: 0.8826 - val_loss: 0.4440 - val_accuracy: 0.9041\n",
      "Epoch 15/100\n",
      "32/32 [==============================] - 1s 44ms/step - loss: 0.4466 - accuracy: 0.8885 - val_loss: 0.4438 - val_accuracy: 0.9041\n",
      "Epoch 16/100\n",
      "32/32 [==============================] - 2s 48ms/step - loss: 0.4567 - accuracy: 0.8806 - val_loss: 0.4443 - val_accuracy: 0.9041\n",
      "Epoch 17/100\n",
      "32/32 [==============================] - 1s 43ms/step - loss: 0.4432 - accuracy: 0.8924 - val_loss: 0.4420 - val_accuracy: 0.9041\n",
      "Epoch 18/100\n",
      "32/32 [==============================] - 1s 46ms/step - loss: 0.4471 - accuracy: 0.8777 - val_loss: 0.4941 - val_accuracy: 0.8584\n",
      "Epoch 19/100\n",
      "32/32 [==============================] - 1s 46ms/step - loss: 0.4394 - accuracy: 0.8865 - val_loss: 0.4404 - val_accuracy: 0.9041\n",
      "Epoch 20/100\n",
      "32/32 [==============================] - 1s 45ms/step - loss: 0.4404 - accuracy: 0.8845 - val_loss: 0.4336 - val_accuracy: 0.9041\n",
      "Epoch 21/100\n",
      "32/32 [==============================] - 1s 47ms/step - loss: 0.4487 - accuracy: 0.8767 - val_loss: 0.4391 - val_accuracy: 0.9041\n",
      "Epoch 22/100\n",
      "32/32 [==============================] - 1s 46ms/step - loss: 0.4383 - accuracy: 0.9012 - val_loss: 0.4435 - val_accuracy: 0.8950\n",
      "Epoch 23/100\n",
      "32/32 [==============================] - 1s 45ms/step - loss: 0.4331 - accuracy: 0.8875 - val_loss: 0.4313 - val_accuracy: 0.9087\n",
      "Epoch 24/100\n",
      "32/32 [==============================] - 1s 44ms/step - loss: 0.4379 - accuracy: 0.8845 - val_loss: 0.4363 - val_accuracy: 0.9041\n",
      "Epoch 25/100\n",
      "32/32 [==============================] - 1s 45ms/step - loss: 0.4747 - accuracy: 0.8699 - val_loss: 0.4643 - val_accuracy: 0.8813\n",
      "Epoch 26/100\n",
      "32/32 [==============================] - 1s 44ms/step - loss: 0.4412 - accuracy: 0.8894 - val_loss: 0.4311 - val_accuracy: 0.9041\n",
      "Epoch 27/100\n",
      "32/32 [==============================] - 1s 44ms/step - loss: 0.4503 - accuracy: 0.8718 - val_loss: 0.4420 - val_accuracy: 0.8858\n",
      "Epoch 28/100\n",
      "32/32 [==============================] - 1s 44ms/step - loss: 0.4408 - accuracy: 0.8816 - val_loss: 0.4324 - val_accuracy: 0.9041\n",
      "Epoch 29/100\n",
      "32/32 [==============================] - 1s 46ms/step - loss: 0.4331 - accuracy: 0.8865 - val_loss: 0.4339 - val_accuracy: 0.9041\n",
      "Epoch 30/100\n",
      "32/32 [==============================] - 2s 47ms/step - loss: 0.4475 - accuracy: 0.8806 - val_loss: 0.4425 - val_accuracy: 0.8950\n",
      "Epoch 31/100\n",
      "32/32 [==============================] - 1s 46ms/step - loss: 0.4270 - accuracy: 0.8933 - val_loss: 0.4320 - val_accuracy: 0.8995\n",
      "Epoch 32/100\n",
      "32/32 [==============================] - 2s 52ms/step - loss: 0.4315 - accuracy: 0.8826 - val_loss: 0.4664 - val_accuracy: 0.8630\n",
      "Epoch 33/100\n",
      "32/32 [==============================] - 2s 57ms/step - loss: 0.4287 - accuracy: 0.8855 - val_loss: 0.4306 - val_accuracy: 0.9087\n",
      "Epoch 34/100\n",
      "32/32 [==============================] - 2s 50ms/step - loss: 0.4480 - accuracy: 0.8845 - val_loss: 0.4324 - val_accuracy: 0.8950\n",
      "Epoch 35/100\n",
      "32/32 [==============================] - 2s 52ms/step - loss: 0.4397 - accuracy: 0.8875 - val_loss: 0.4695 - val_accuracy: 0.8767\n",
      "Epoch 36/100\n",
      "32/32 [==============================] - 1s 44ms/step - loss: 0.4567 - accuracy: 0.8796 - val_loss: 0.4358 - val_accuracy: 0.8995\n",
      "Epoch 37/100\n",
      "32/32 [==============================] - 1s 46ms/step - loss: 0.4261 - accuracy: 0.8757 - val_loss: 0.4280 - val_accuracy: 0.9087\n",
      "Epoch 38/100\n",
      "32/32 [==============================] - 2s 50ms/step - loss: 0.4352 - accuracy: 0.8796 - val_loss: 0.4508 - val_accuracy: 0.8904\n",
      "Epoch 39/100\n",
      "32/32 [==============================] - 1s 46ms/step - loss: 0.4312 - accuracy: 0.8904 - val_loss: 0.4688 - val_accuracy: 0.8584\n",
      "Epoch 40/100\n",
      "32/32 [==============================] - 1s 46ms/step - loss: 0.4391 - accuracy: 0.8806 - val_loss: 0.4281 - val_accuracy: 0.9087\n",
      "Epoch 41/100\n",
      "32/32 [==============================] - 1s 47ms/step - loss: 0.4339 - accuracy: 0.8806 - val_loss: 0.4861 - val_accuracy: 0.8630\n",
      "Epoch 42/100\n",
      "32/32 [==============================] - 2s 49ms/step - loss: 0.4353 - accuracy: 0.8914 - val_loss: 0.4945 - val_accuracy: 0.8584\n",
      "Epoch 43/100\n",
      "32/32 [==============================] - 1s 47ms/step - loss: 0.4384 - accuracy: 0.8885 - val_loss: 0.4276 - val_accuracy: 0.9087\n",
      "Epoch 44/100\n",
      "32/32 [==============================] - 1s 45ms/step - loss: 0.4398 - accuracy: 0.8757 - val_loss: 0.4571 - val_accuracy: 0.8721\n",
      "Epoch 45/100\n",
      "32/32 [==============================] - 1s 46ms/step - loss: 0.4426 - accuracy: 0.8787 - val_loss: 0.4317 - val_accuracy: 0.8904\n",
      "Epoch 46/100\n",
      "32/32 [==============================] - 1s 45ms/step - loss: 0.4293 - accuracy: 0.8796 - val_loss: 0.4299 - val_accuracy: 0.8995\n",
      "Epoch 47/100\n",
      "32/32 [==============================] - 1s 45ms/step - loss: 0.4432 - accuracy: 0.8904 - val_loss: 0.4371 - val_accuracy: 0.8950\n",
      "Epoch 48/100\n",
      "32/32 [==============================] - 2s 49ms/step - loss: 0.4310 - accuracy: 0.8865 - val_loss: 0.4304 - val_accuracy: 0.8995\n",
      "Epoch 49/100\n",
      "32/32 [==============================] - 2s 50ms/step - loss: 0.4209 - accuracy: 0.8855 - val_loss: 0.4281 - val_accuracy: 0.9087\n",
      "Epoch 50/100\n",
      "32/32 [==============================] - 2s 51ms/step - loss: 0.4455 - accuracy: 0.8816 - val_loss: 0.4454 - val_accuracy: 0.8950\n",
      "Epoch 51/100\n",
      "32/32 [==============================] - 2s 50ms/step - loss: 0.4267 - accuracy: 0.8845 - val_loss: 0.4575 - val_accuracy: 0.8904\n",
      "Epoch 52/100\n",
      "32/32 [==============================] - 2s 50ms/step - loss: 0.4512 - accuracy: 0.8748 - val_loss: 0.4330 - val_accuracy: 0.8995\n",
      "Epoch 53/100\n",
      "32/32 [==============================] - 2s 53ms/step - loss: 0.4269 - accuracy: 0.8836 - val_loss: 0.4457 - val_accuracy: 0.8950\n",
      "Epoch 54/100\n",
      "32/32 [==============================] - 2s 49ms/step - loss: 0.4375 - accuracy: 0.8816 - val_loss: 0.4270 - val_accuracy: 0.9041\n",
      "Epoch 55/100\n",
      "32/32 [==============================] - 1s 45ms/step - loss: 0.4349 - accuracy: 0.8845 - val_loss: 0.4564 - val_accuracy: 0.8767\n",
      "Epoch 56/100\n",
      "32/32 [==============================] - 1s 45ms/step - loss: 0.4465 - accuracy: 0.8689 - val_loss: 0.4934 - val_accuracy: 0.8630\n",
      "Epoch 57/100\n",
      "32/32 [==============================] - 1s 45ms/step - loss: 0.4409 - accuracy: 0.8816 - val_loss: 0.4245 - val_accuracy: 0.9087\n",
      "Epoch 58/100\n"
     ]
    },
    {
     "name": "stdout",
     "output_type": "stream",
     "text": [
      "32/32 [==============================] - 1s 46ms/step - loss: 0.4316 - accuracy: 0.8796 - val_loss: 0.4669 - val_accuracy: 0.8767\n",
      "Epoch 59/100\n",
      "32/32 [==============================] - 1s 45ms/step - loss: 0.4333 - accuracy: 0.8826 - val_loss: 0.4700 - val_accuracy: 0.8721\n",
      "Epoch 60/100\n",
      "32/32 [==============================] - 1s 46ms/step - loss: 0.4321 - accuracy: 0.8904 - val_loss: 0.4555 - val_accuracy: 0.8904\n",
      "Epoch 61/100\n",
      "32/32 [==============================] - 2s 47ms/step - loss: 0.4359 - accuracy: 0.8865 - val_loss: 0.4270 - val_accuracy: 0.9041\n",
      "Epoch 62/100\n",
      "32/32 [==============================] - 2s 47ms/step - loss: 0.4370 - accuracy: 0.8826 - val_loss: 0.4278 - val_accuracy: 0.9041\n",
      "Epoch 63/100\n",
      "32/32 [==============================] - 2s 47ms/step - loss: 0.4291 - accuracy: 0.8845 - val_loss: 0.4250 - val_accuracy: 0.8995\n",
      "Epoch 64/100\n",
      "32/32 [==============================] - 2s 50ms/step - loss: 0.4331 - accuracy: 0.8885 - val_loss: 0.4329 - val_accuracy: 0.8950\n",
      "Epoch 65/100\n",
      "32/32 [==============================] - 2s 47ms/step - loss: 0.4569 - accuracy: 0.8836 - val_loss: 0.4474 - val_accuracy: 0.8813\n",
      "Epoch 66/100\n",
      "32/32 [==============================] - 2s 49ms/step - loss: 0.4254 - accuracy: 0.8885 - val_loss: 0.4245 - val_accuracy: 0.8995\n",
      "Epoch 67/100\n",
      "32/32 [==============================] - 1s 45ms/step - loss: 0.4316 - accuracy: 0.8757 - val_loss: 0.5013 - val_accuracy: 0.8630\n",
      "Epoch 68/100\n",
      "32/32 [==============================] - 1s 47ms/step - loss: 0.4401 - accuracy: 0.8748 - val_loss: 0.4246 - val_accuracy: 0.9041\n",
      "Epoch 69/100\n",
      "32/32 [==============================] - 2s 48ms/step - loss: 0.4223 - accuracy: 0.8924 - val_loss: 0.4260 - val_accuracy: 0.8995\n",
      "Epoch 70/100\n",
      "32/32 [==============================] - 1s 47ms/step - loss: 0.4306 - accuracy: 0.8845 - val_loss: 0.4323 - val_accuracy: 0.8995\n",
      "Epoch 71/100\n",
      "32/32 [==============================] - 1s 46ms/step - loss: 0.4354 - accuracy: 0.8757 - val_loss: 0.4544 - val_accuracy: 0.8630\n",
      "Epoch 72/100\n",
      "32/32 [==============================] - 2s 48ms/step - loss: 0.4485 - accuracy: 0.8806 - val_loss: 0.4290 - val_accuracy: 0.8995\n",
      "Epoch 73/100\n",
      "32/32 [==============================] - 2s 47ms/step - loss: 0.4271 - accuracy: 0.8953 - val_loss: 0.4327 - val_accuracy: 0.8950\n",
      "Epoch 74/100\n",
      "32/32 [==============================] - 2s 57ms/step - loss: 0.4217 - accuracy: 0.8875 - val_loss: 0.4671 - val_accuracy: 0.8767\n",
      "Epoch 75/100\n",
      "32/32 [==============================] - 1s 46ms/step - loss: 0.4325 - accuracy: 0.8826 - val_loss: 0.4482 - val_accuracy: 0.8950\n",
      "Epoch 76/100\n",
      "32/32 [==============================] - 2s 47ms/step - loss: 0.4522 - accuracy: 0.8757 - val_loss: 0.4361 - val_accuracy: 0.8950\n",
      "Epoch 77/100\n",
      "32/32 [==============================] - 2s 53ms/step - loss: 0.4327 - accuracy: 0.8836 - val_loss: 0.4333 - val_accuracy: 0.8995\n",
      "Epoch 78/100\n",
      "32/32 [==============================] - 2s 49ms/step - loss: 0.4209 - accuracy: 0.8767 - val_loss: 0.4290 - val_accuracy: 0.8995\n",
      "Epoch 79/100\n",
      "32/32 [==============================] - 1s 46ms/step - loss: 0.4468 - accuracy: 0.8875 - val_loss: 0.4325 - val_accuracy: 0.8950\n",
      "Epoch 80/100\n",
      "32/32 [==============================] - 2s 52ms/step - loss: 0.4287 - accuracy: 0.8894 - val_loss: 0.4243 - val_accuracy: 0.9087\n",
      "Epoch 81/100\n",
      "32/32 [==============================] - 2s 49ms/step - loss: 0.4182 - accuracy: 0.8904 - val_loss: 0.4387 - val_accuracy: 0.8904\n",
      "Epoch 82/100\n",
      "32/32 [==============================] - 2s 51ms/step - loss: 0.4220 - accuracy: 0.8806 - val_loss: 0.4268 - val_accuracy: 0.8950\n",
      "Epoch 83/100\n",
      "32/32 [==============================] - 2s 55ms/step - loss: 0.4386 - accuracy: 0.8796 - val_loss: 0.4600 - val_accuracy: 0.8813\n",
      "Epoch 84/100\n",
      "32/32 [==============================] - 2s 53ms/step - loss: 0.4441 - accuracy: 0.8728 - val_loss: 0.4604 - val_accuracy: 0.8630\n",
      "Epoch 85/100\n",
      "32/32 [==============================] - 1s 45ms/step - loss: 0.4585 - accuracy: 0.8748 - val_loss: 0.4290 - val_accuracy: 0.9041\n",
      "Epoch 86/100\n",
      "32/32 [==============================] - 1s 42ms/step - loss: 0.4498 - accuracy: 0.8836 - val_loss: 0.4323 - val_accuracy: 0.8904\n",
      "Epoch 87/100\n",
      "32/32 [==============================] - 1s 42ms/step - loss: 0.4559 - accuracy: 0.8708 - val_loss: 0.4272 - val_accuracy: 0.9041\n",
      "Epoch 88/100\n",
      "32/32 [==============================] - 1s 42ms/step - loss: 0.4255 - accuracy: 0.8904 - val_loss: 0.4220 - val_accuracy: 0.9087\n",
      "Epoch 89/100\n",
      "32/32 [==============================] - 2s 49ms/step - loss: 0.4350 - accuracy: 0.8787 - val_loss: 0.4377 - val_accuracy: 0.8950\n",
      "Epoch 90/100\n",
      "32/32 [==============================] - 1s 46ms/step - loss: 0.4226 - accuracy: 0.8992 - val_loss: 0.4257 - val_accuracy: 0.8950\n",
      "Epoch 91/100\n",
      "32/32 [==============================] - 1s 42ms/step - loss: 0.4505 - accuracy: 0.8708 - val_loss: 0.4459 - val_accuracy: 0.8858\n",
      "Epoch 92/100\n",
      "32/32 [==============================] - 1s 44ms/step - loss: 0.4397 - accuracy: 0.8865 - val_loss: 0.4254 - val_accuracy: 0.9087\n",
      "Epoch 93/100\n",
      "32/32 [==============================] - 1s 43ms/step - loss: 0.4278 - accuracy: 0.8885 - val_loss: 0.4240 - val_accuracy: 0.9087\n",
      "Epoch 94/100\n",
      "32/32 [==============================] - 1s 44ms/step - loss: 0.4276 - accuracy: 0.8826 - val_loss: 0.4244 - val_accuracy: 0.9087\n",
      "Epoch 95/100\n",
      "32/32 [==============================] - 1s 46ms/step - loss: 0.4135 - accuracy: 0.8963 - val_loss: 0.4288 - val_accuracy: 0.8995\n",
      "Epoch 96/100\n",
      "32/32 [==============================] - 2s 47ms/step - loss: 0.4339 - accuracy: 0.8885 - val_loss: 0.4568 - val_accuracy: 0.8858\n",
      "Epoch 97/100\n",
      "32/32 [==============================] - 1s 42ms/step - loss: 0.4381 - accuracy: 0.8865 - val_loss: 0.4449 - val_accuracy: 0.8950\n",
      "Epoch 98/100\n",
      "32/32 [==============================] - 1s 44ms/step - loss: 0.4405 - accuracy: 0.8777 - val_loss: 0.4295 - val_accuracy: 0.8950\n",
      "Epoch 99/100\n",
      "32/32 [==============================] - 1s 44ms/step - loss: 0.4221 - accuracy: 0.8933 - val_loss: 0.4234 - val_accuracy: 0.9041\n",
      "Epoch 100/100\n",
      "32/32 [==============================] - 2s 50ms/step - loss: 0.4311 - accuracy: 0.8836 - val_loss: 0.4229 - val_accuracy: 0.9087\n"
     ]
    }
   ],
   "source": [
    "model_3.compile(optimizer=\"adam\",\n",
    "               loss=\"binary_crossentropy\",\n",
    "               metrics=[\"accuracy\"])\n",
    "\n",
    "hist_3 = model_3.fit(X_egitim, Y_egitim,\n",
    "                    batch_size=32, epochs=100,\n",
    "                    validation_data=(X_dogrulama, Y_dogrulama))"
   ]
  },
  {
   "cell_type": "code",
   "execution_count": 62,
   "id": "ff5c23f2",
   "metadata": {},
   "outputs": [],
   "source": [
    "# Bu model için de kayıp ve doğruluk grafiklerini çizelim."
   ]
  },
  {
   "cell_type": "code",
   "execution_count": 63,
   "id": "6da8dd83",
   "metadata": {},
   "outputs": [
    {
     "data": {
      "image/png": "[encoded data removed]",
      "text/plain": [
       "<Figure size 432x288 with 1 Axes>"
      ]
     },
     "metadata": {
      "needs_background": "light"
     },
     "output_type": "display_data"
    }
   ],
   "source": [
    "# Kayıp için;\n",
    "plt.plot(hist_3.history[\"loss\"])\n",
    "plt.plot(hist_3.history[\"val_loss\"])\n",
    "plt.title(\"Model kayıp değerleri\")\n",
    "plt.ylabel(\"Kayıp\")\n",
    "plt.xlabel(\"Epoch\")\n",
    "plt.legend([\"Eğitim\",\"Doğrulama\"], loc=\"upper right\")\n",
    "plt.show()"
   ]
  },
  {
   "cell_type": "markdown",
   "id": "c5ed3274",
   "metadata": {},
   "source": [
    "Yorum: Doğrulama veri seti için kaybın eğitim veri seti kaybına yakın olduğu görülebilir.\n",
    "Dolayısıyla aşırı eğitimin problem olmadığı açıktır.    "
   ]
  },
  {
   "cell_type": "code",
   "execution_count": null,
   "id": "54eb40bf",
   "metadata": {},
   "outputs": [],
   "source": []
  },
  {
   "cell_type": "code",
   "execution_count": 58,
   "id": "b905bcae",
   "metadata": {
    "scrolled": true
   },
   "outputs": [
    {
     "data": {
      "image/png": "[encoded data removed]",
      "text/plain": [
       "<Figure size 432x288 with 1 Axes>"
      ]
     },
     "metadata": {
      "needs_background": "light"
     },
     "output_type": "display_data"
    }
   ],
   "source": [
    "# Doğruluk için;\n",
    "plt.plot(hist_3.history[\"accuracy\"])\n",
    "plt.plot(hist_3.history[\"val_accuracy\"])\n",
    "plt.title(\"Model  doğruluğu\")\n",
    "plt.ylabel(\"Doğruluk\")\n",
    "plt.xlabel(\"Epoch\")\n",
    "plt.legend([\"Eğitim\",\"Doğrulama\"], loc=\"upper right\")\n",
    "plt.show()"
   ]
  },
  {
   "cell_type": "markdown",
   "id": "f129bc08",
   "metadata": {},
   "source": [
    "Yorum: L2 düzenleme ve dropout ile aşırı eğitim probleminin çözüldüğü yukarıdaki grafikten de kolayca anlaşılabilir."
   ]
  },
  {
   "cell_type": "code",
   "execution_count": null,
   "id": "abc2f949",
   "metadata": {},
   "outputs": [],
   "source": []
  },
  {
   "cell_type": "code",
   "execution_count": null,
   "id": "79364c48",
   "metadata": {},
   "outputs": [],
   "source": []
  },
  {
   "cell_type": "code",
   "execution_count": null,
   "id": "d6147298",
   "metadata": {},
   "outputs": [],
   "source": []
  }
 ],
 "metadata": {
  "kernelspec": {
   "display_name": "Python 3 (ipykernel)",
   "language": "python",
   "name": "python3"
  },
  "language_info": {
   "codemirror_mode": {
    "name": "ipython",
    "version": 3
   },
   "file_extension": ".py",
   "mimetype": "text/x-python",
   "name": "python",
   "nbconvert_exporter": "python",
   "pygments_lexer": "ipython3",
   "version": "3.9.7"
  }
 },
 "nbformat": 4,
 "nbformat_minor": 5
}
