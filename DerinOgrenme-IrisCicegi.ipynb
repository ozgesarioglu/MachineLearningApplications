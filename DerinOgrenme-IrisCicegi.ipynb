{
 "cells": [
  {
   "cell_type": "markdown",
   "id": "bcbdc21d",
   "metadata": {},
   "source": [
    "# Iris Data Set"
   ]
  },
  {
   "cell_type": "markdown",
   "id": "ac7c2e28",
   "metadata": {},
   "source": [
    "İris çiçeği veri kümesi veya Fisher'ın iris veri kümesi, İngiliz istatistikçi ve biyolog Ronald Fisher tarafından tanıtılan çok değişkenli bir veri kümesidir. Veri seti, üç  iris türünün(Iris setosa, Iris virginica ve Iris versicolor) her birinden 50 örnekten oluşur. Her numuneden dört özellik ölçülür: Taç ve çanak yapraklarının uzunluğu ve genişliği(cm cinsinden)\n",
    "Bu dört özelliğin kombinasyonuna dayanarak, Fisher türleri birbirinden ayırmak için doğrusal bir diskrimant model geliştirdi.\n",
    "\n",
    "Bu veri kümesinin dör sütun içeridiği anlamına gelir. Sepal uzunluk, sepal genişlik, petal uzunluk ve petal genişlik. \n",
    "\n"
   ]
  },
  {
   "cell_type": "code",
   "execution_count": 4,
   "id": "749dceb5",
   "metadata": {},
   "outputs": [],
   "source": [
    "from pandas import read_csv\n",
    "from pandas.plotting import scatter_matrix\n",
    "from matplotlib import pyplot\n",
    "from sklearn.model_selection import train_test_split\n",
    "from sklearn.model_selection import cross_val_score\n",
    "from sklearn.model_selection import StratifiedKFold\n",
    "from sklearn.metrics import classification_report\n",
    "from sklearn.metrics import confusion_matrix\n",
    "from sklearn.metrics import accuracy_score\n",
    "from sklearn.linear_model import LogisticRegression\n",
    "from sklearn.tree import DecisionTreeClassifier\n",
    "from sklearn.neighbors import KNeighborsClassifier\n",
    "from sklearn.discriminant_analysis import LinearDiscriminantAnalysis\n",
    "from sklearn.naive_bayes import GaussianNB\n",
    "from sklearn.svm import SVC\n"
   ]
  },
  {
   "cell_type": "markdown",
   "id": "e9e4e868",
   "metadata": {},
   "source": [
    "Veri seti aşağıdaki gibidir."
   ]
  },
  {
   "cell_type": "code",
   "execution_count": 24,
   "id": "18ee6ba9",
   "metadata": {},
   "outputs": [
    {
     "data": {
      "text/html": [
       "<div>\n",
       "<style scoped>\n",
       "    .dataframe tbody tr th:only-of-type {\n",
       "        vertical-align: middle;\n",
       "    }\n",
       "\n",
       "    .dataframe tbody tr th {\n",
       "        vertical-align: top;\n",
       "    }\n",
       "\n",
       "    .dataframe thead th {\n",
       "        text-align: right;\n",
       "    }\n",
       "</style>\n",
       "<table border=\"1\" class=\"dataframe\">\n",
       "  <thead>\n",
       "    <tr style=\"text-align: right;\">\n",
       "      <th></th>\n",
       "      <th>sepal_uzunlugu</th>\n",
       "      <th>sepal_genisligi</th>\n",
       "      <th>petal_uzunlugu</th>\n",
       "      <th>petal_genisligi</th>\n",
       "      <th>sinif</th>\n",
       "    </tr>\n",
       "  </thead>\n",
       "  <tbody>\n",
       "    <tr>\n",
       "      <th>0</th>\n",
       "      <td>5.1</td>\n",
       "      <td>3.5</td>\n",
       "      <td>1.4</td>\n",
       "      <td>0.2</td>\n",
       "      <td>Iris-setosa</td>\n",
       "    </tr>\n",
       "    <tr>\n",
       "      <th>1</th>\n",
       "      <td>4.9</td>\n",
       "      <td>3.0</td>\n",
       "      <td>1.4</td>\n",
       "      <td>0.2</td>\n",
       "      <td>Iris-setosa</td>\n",
       "    </tr>\n",
       "    <tr>\n",
       "      <th>2</th>\n",
       "      <td>4.7</td>\n",
       "      <td>3.2</td>\n",
       "      <td>1.3</td>\n",
       "      <td>0.2</td>\n",
       "      <td>Iris-setosa</td>\n",
       "    </tr>\n",
       "    <tr>\n",
       "      <th>3</th>\n",
       "      <td>4.6</td>\n",
       "      <td>3.1</td>\n",
       "      <td>1.5</td>\n",
       "      <td>0.2</td>\n",
       "      <td>Iris-setosa</td>\n",
       "    </tr>\n",
       "    <tr>\n",
       "      <th>4</th>\n",
       "      <td>5.0</td>\n",
       "      <td>3.6</td>\n",
       "      <td>1.4</td>\n",
       "      <td>0.2</td>\n",
       "      <td>Iris-setosa</td>\n",
       "    </tr>\n",
       "    <tr>\n",
       "      <th>...</th>\n",
       "      <td>...</td>\n",
       "      <td>...</td>\n",
       "      <td>...</td>\n",
       "      <td>...</td>\n",
       "      <td>...</td>\n",
       "    </tr>\n",
       "    <tr>\n",
       "      <th>145</th>\n",
       "      <td>6.7</td>\n",
       "      <td>3.0</td>\n",
       "      <td>5.2</td>\n",
       "      <td>2.3</td>\n",
       "      <td>Iris-virginica</td>\n",
       "    </tr>\n",
       "    <tr>\n",
       "      <th>146</th>\n",
       "      <td>6.3</td>\n",
       "      <td>2.5</td>\n",
       "      <td>5.0</td>\n",
       "      <td>1.9</td>\n",
       "      <td>Iris-virginica</td>\n",
       "    </tr>\n",
       "    <tr>\n",
       "      <th>147</th>\n",
       "      <td>6.5</td>\n",
       "      <td>3.0</td>\n",
       "      <td>5.2</td>\n",
       "      <td>2.0</td>\n",
       "      <td>Iris-virginica</td>\n",
       "    </tr>\n",
       "    <tr>\n",
       "      <th>148</th>\n",
       "      <td>6.2</td>\n",
       "      <td>3.4</td>\n",
       "      <td>5.4</td>\n",
       "      <td>2.3</td>\n",
       "      <td>Iris-virginica</td>\n",
       "    </tr>\n",
       "    <tr>\n",
       "      <th>149</th>\n",
       "      <td>5.9</td>\n",
       "      <td>3.0</td>\n",
       "      <td>5.1</td>\n",
       "      <td>1.8</td>\n",
       "      <td>Iris-virginica</td>\n",
       "    </tr>\n",
       "  </tbody>\n",
       "</table>\n",
       "<p>150 rows × 5 columns</p>\n",
       "</div>"
      ],
      "text/plain": [
       "     sepal_uzunlugu  sepal_genisligi  petal_uzunlugu  petal_genisligi  \\\n",
       "0               5.1              3.5             1.4              0.2   \n",
       "1               4.9              3.0             1.4              0.2   \n",
       "2               4.7              3.2             1.3              0.2   \n",
       "3               4.6              3.1             1.5              0.2   \n",
       "4               5.0              3.6             1.4              0.2   \n",
       "..              ...              ...             ...              ...   \n",
       "145             6.7              3.0             5.2              2.3   \n",
       "146             6.3              2.5             5.0              1.9   \n",
       "147             6.5              3.0             5.2              2.0   \n",
       "148             6.2              3.4             5.4              2.3   \n",
       "149             5.9              3.0             5.1              1.8   \n",
       "\n",
       "              sinif  \n",
       "0       Iris-setosa  \n",
       "1       Iris-setosa  \n",
       "2       Iris-setosa  \n",
       "3       Iris-setosa  \n",
       "4       Iris-setosa  \n",
       "..              ...  \n",
       "145  Iris-virginica  \n",
       "146  Iris-virginica  \n",
       "147  Iris-virginica  \n",
       "148  Iris-virginica  \n",
       "149  Iris-virginica  \n",
       "\n",
       "[150 rows x 5 columns]"
      ]
     },
     "execution_count": 24,
     "metadata": {},
     "output_type": "execute_result"
    }
   ],
   "source": [
    "url=\"https://raw.githubusercontent.com/jbrownlee/Datasets/master/iris.csv\"\n",
    "names=[\"sepal_uzunlugu\",\"sepal_genisligi\",\"petal_uzunlugu\",\"petal_genisligi\",\"sinif\"]\n",
    "dataset = read_csv(url, names=names)\n",
    "dataset"
   ]
  },
  {
   "cell_type": "markdown",
   "id": "af13342b",
   "metadata": {},
   "source": [
    "## Problem:\n",
    "Yeni bir çiçeğin sepal ve petal yaprak uzunluk ve genişliklerini girerek, hangi sınıfa ait olduğunu tahmin etmektir.\n",
    "#### Kullanılacak Modeller\n",
    "* Lojistik regresyon\n",
    "* Karar ağaçları\n",
    "* En yakın K Komşuluğu\n",
    "* Lineer diskriminant analizi\n",
    "* Gauss Naive Bayes algoritması\n"
   ]
  },
  {
   "cell_type": "code",
   "execution_count": 6,
   "id": "5f8229c7",
   "metadata": {},
   "outputs": [],
   "source": []
  },
  {
   "cell_type": "code",
   "execution_count": 7,
   "id": "de33559e",
   "metadata": {},
   "outputs": [
    {
     "name": "stdout",
     "output_type": "stream",
     "text": [
      "(150, 5)\n"
     ]
    }
   ],
   "source": [
    "print(dataset.shape) # Veri boyutu"
   ]
  },
  {
   "cell_type": "code",
   "execution_count": 9,
   "id": "32e76b09",
   "metadata": {},
   "outputs": [
    {
     "name": "stdout",
     "output_type": "stream",
     "text": [
      "       sepal_uzunlugu  sepal_genisligi  petal_uzunlugu  petal_genisligi\n",
      "count      150.000000       150.000000      150.000000       150.000000\n",
      "mean         5.843333         3.054000        3.758667         1.198667\n",
      "std          0.828066         0.433594        1.764420         0.763161\n",
      "min          4.300000         2.000000        1.000000         0.100000\n",
      "25%          5.100000         2.800000        1.600000         0.300000\n",
      "50%          5.800000         3.000000        4.350000         1.300000\n",
      "75%          6.400000         3.300000        5.100000         1.800000\n",
      "max          7.900000         4.400000        6.900000         2.500000\n"
     ]
    }
   ],
   "source": [
    "# Tanımlayıcı istatistikler\n",
    "\n",
    "print(dataset.describe())  "
   ]
  },
  {
   "cell_type": "code",
   "execution_count": null,
   "id": "e3782ba9",
   "metadata": {},
   "outputs": [],
   "source": []
  },
  {
   "cell_type": "code",
   "execution_count": 10,
   "id": "c807e0a2",
   "metadata": {},
   "outputs": [
    {
     "name": "stdout",
     "output_type": "stream",
     "text": [
      "sinif\n",
      "Iris-setosa        50\n",
      "Iris-versicolor    50\n",
      "Iris-virginica     50\n",
      "dtype: int64\n"
     ]
    }
   ],
   "source": [
    "# Sınıf dağılımı\n",
    "\n",
    "print(dataset.groupby(\"sinif\").size())"
   ]
  },
  {
   "cell_type": "markdown",
   "id": "d06ee49e",
   "metadata": {},
   "source": [
    "Not: Veriler hakkında temel bir bilgimiz oldu. Bunu bazı görselleştirmelerle genişletmeliyiz.\n",
    "\n",
    "İki tür grafik söz konusudur.\n",
    "\n",
    "   1- Her bir özelliği daha iyi anlamak için tek değişkenli grafikler\n",
    "   \n",
    "   2- Nitelikler arasındaki ilişkileri daha iyi anlamak için ise çok değişkenli grafikler"
   ]
  },
  {
   "cell_type": "code",
   "execution_count": 11,
   "id": "329bc7f3",
   "metadata": {},
   "outputs": [
    {
     "data": {
      "image/png": "[encoded data removed]",
      "text/plain": [
       "<Figure size 432x288 with 4 Axes>"
      ]
     },
     "metadata": {
      "needs_background": "light"
     },
     "output_type": "display_data"
    }
   ],
   "source": [
    "# box and whisker grafikleri\n",
    "dataset.plot(kind=\"box\", subplots=True, layout=(2,2), sharex=False, sharey=False)\n",
    "pyplot.show()"
   ]
  },
  {
   "cell_type": "code",
   "execution_count": null,
   "id": "2beffd40",
   "metadata": {},
   "outputs": [],
   "source": []
  },
  {
   "cell_type": "code",
   "execution_count": 12,
   "id": "6df41b28",
   "metadata": {},
   "outputs": [
    {
     "data": {
      "image/png": "[encoded data removed]",
      "text/plain": [
       "<Figure size 432x288 with 4 Axes>"
      ]
     },
     "metadata": {
      "needs_background": "light"
     },
     "output_type": "display_data"
    }
   ],
   "source": [
    "#Histogramlar\n",
    "dataset.hist()\n",
    "pyplot.show()"
   ]
  },
  {
   "cell_type": "markdown",
   "id": "794cba8f",
   "metadata": {},
   "source": [
    "Yorum: Petal genişliği ve uzunluğunun normallikten uzak, sepal uzunluğu ve genişliğinin ise normale daha yakın olduğunu söyleyebiliriz."
   ]
  },
  {
   "cell_type": "code",
   "execution_count": null,
   "id": "0f844450",
   "metadata": {},
   "outputs": [],
   "source": []
  },
  {
   "cell_type": "markdown",
   "id": "bb5335db",
   "metadata": {},
   "source": [
    "Şimdi de değişkenler arasındaki etkileşime bakalım.\n",
    "\n",
    "İlk olarak, tüm özellik çiftlerinin scatterplot'ına bakalım. Bu öznitelikler arasındaki yapılandırılmış ilişkileri tespit etmek için yararlı olabilir."
   ]
  },
  {
   "cell_type": "code",
   "execution_count": 13,
   "id": "c1a655cf",
   "metadata": {
    "scrolled": true
   },
   "outputs": [
    {
     "data": {
      "image/png": "[encoded data removed]",
      "text/plain": [
       "<Figure size 432x288 with 16 Axes>"
      ]
     },
     "metadata": {
      "needs_background": "light"
     },
     "output_type": "display_data"
    }
   ],
   "source": [
    "# çok degiskenli serpme matrisi grafigi\n",
    "scatter_matrix(dataset)\n",
    "pyplot.show()"
   ]
  },
  {
   "cell_type": "markdown",
   "id": "5cf483ae",
   "metadata": {},
   "source": [
    "Bazı özniteliklerin köşegen gruplandırmasına dikkat etmek gerekir. Bu, yüksek bir korelasyon ve öngörülebilir bir ilişki olduğunu göstermektedir."
   ]
  },
  {
   "cell_type": "markdown",
   "id": "dac828e0",
   "metadata": {},
   "source": [
    "Yorum: Serpme grafiğinde eğer noktalar çok dağınıksa doğrusal ilişki olmadığını gösterir. Ancak noktalar üzerinden bir doğru çizdiğimiz zaman doğrunun etrafında toplu ise doğrusal ilişki vardır diyebiliriz. O halde yukarıda 4 yerde doğrusal ilişki olduğunu söyleyebiliriz."
   ]
  },
  {
   "cell_type": "code",
   "execution_count": null,
   "id": "3f2cdfba",
   "metadata": {},
   "outputs": [],
   "source": []
  },
  {
   "cell_type": "markdown",
   "id": "b7d09a7e",
   "metadata": {},
   "source": [
    "Bazı veri modelleri oluşturmanın ve görünmeyen verilerdeki doğruluğunu tahmin etmeye başlayalım.\n",
    "\n",
    "1- Bir doğrulama veri kümesini ayıralım.\n",
    "\n",
    "2- Test için, 10 kat çapraz doğrulama(farklı da kullanabiliriz) kullanacak şekile ayarlayalım.\n",
    "\n",
    "3- Çiçek ölçümlerinin türleri tahmin etmek için birden fazla farklı model oluşturalım.\n",
    "\n",
    "4- En iyi modeli seçelim."
   ]
  },
  {
   "cell_type": "code",
   "execution_count": null,
   "id": "faa4c227",
   "metadata": {},
   "outputs": [],
   "source": []
  },
  {
   "cell_type": "markdown",
   "id": "4847e612",
   "metadata": {},
   "source": [
    "1- Oluşturulan modelin iyi olduğunu bilmemiz gerekiyor. Daha sonra görünmeyen veriler üzerinde oluşturduğumuz modellerin doğruluğunu tahmin etmek için istatistiksel yöntemler kullanalım."
   ]
  },
  {
   "cell_type": "code",
   "execution_count": 14,
   "id": "504ba063",
   "metadata": {},
   "outputs": [],
   "source": [
    "# Veri setin ayırma\n",
    "# %80'i modelleri arasında eğitmek,değerlendirmek,seçmek için,\n",
    "# %20'si bir doğrulama veri kümesi oluşturmak için\n",
    "array = dataset.values\n",
    "x = array[:,0:4]  #öznitelik değişkeni\n",
    "y = array[:,4]    # hedef değişken\n",
    "X_egitim, X_validasyon, Y_egitim, Y_validasyon = train_test_split(x,y,test_size=0.20, random_state=1)\n",
    "# random_state'i rastgelelik için kullandık"
   ]
  },
  {
   "cell_type": "code",
   "execution_count": null,
   "id": "23a321a2",
   "metadata": {},
   "outputs": [],
   "source": []
  },
  {
   "cell_type": "markdown",
   "id": "10c32dbf",
   "metadata": {},
   "source": [
    "2- Model doğruluğunu tahmin etmek için tabakalı 10 kat çapraz doğrulama kullanalım. Bu da veri kümemizi 10 parçaya bölecek, 9 parça ile veri eğitilecek ve kalan 1 parça ile test  edecek ve eğitim-test bölünmelerinin tüm kombinasyonları için tekrar edecektir.\n"
   ]
  },
  {
   "cell_type": "code",
   "execution_count": null,
   "id": "3df2aa19",
   "metadata": {},
   "outputs": [],
   "source": []
  },
  {
   "cell_type": "markdown",
   "id": "bf0d0ba9",
   "metadata": {},
   "source": [
    "3- Algoritmaları(6 farklı) test edelim."
   ]
  },
  {
   "cell_type": "code",
   "execution_count": 15,
   "id": "c9a989fd",
   "metadata": {},
   "outputs": [],
   "source": [
    "# Algoritmalar\n",
    "models=[]\n",
    "models.append((\"LR\",LogisticRegression(solver=\"liblinear\",multi_class=\"ovr\")))\n",
    "models.append((\"LDA\",LinearDiscriminantAnalysis())) # Doğrusal Diskriminant Analizi\n",
    "models.append((\"KNN\",KNeighborsClassifier()))       # En Yakın K Komşuluğu\n",
    "models.append((\"CART\", DecisionTreeClassifier()))   # Sınıflandırma ve Regresyon Ağaçları\n",
    "models.append((\"NB\",GaussianNB()))                  # Gauss Naive Bayes\n",
    "models.append((\"SVM\", SVC(gamma=\"auto\")))           # Destek Vektör Makineleri"
   ]
  },
  {
   "cell_type": "code",
   "execution_count": 16,
   "id": "54b68772",
   "metadata": {},
   "outputs": [
    {
     "name": "stdout",
     "output_type": "stream",
     "text": [
      "LR:0.941667(0.065085)\n",
      "LDA:0.975000(0.038188)\n",
      "KNN:0.958333(0.041667)\n",
      "CART:0.958333(0.041667)\n",
      "NB:0.950000(0.055277)\n",
      "SVM:0.983333(0.033333)\n"
     ]
    }
   ],
   "source": [
    "# Model Metriklerini Hesaplama\n",
    "sonuclar=[]\n",
    "names=[]\n",
    "for name, model in models:\n",
    "    kfold=StratifiedKFold(n_splits=10, random_state=1, shuffle=True)\n",
    "    cv_sonuclar=cross_val_score(model,X_egitim, Y_egitim, cv=kfold, scoring=\"accuracy\")\n",
    "    sonuclar.append(cv_sonuclar)\n",
    "    names.append(name)\n",
    "    print(\"%s:%f(%f)\"%(name,cv_sonuclar.mean(),cv_sonuclar.std()))"
   ]
  },
  {
   "cell_type": "markdown",
   "id": "fff6b68f",
   "metadata": {},
   "source": [
    "4- Modelleri birbiri ile karşılaştırı en doğru olanı seçmeliyiz.\n",
    "Yorum: Algoritmanın veya değerlendirme prosedürrünün stokastik durumu veya sayısal doğruluktaki farklılıklar göz önüne alındığında değişebilir. Örneğin birkaç kez çalıştırıp ve ortalama sonuçları ona göre karşılaştırabiliriz.\n",
    " SVM  yaklaşık 0.98 olarak en büyük tahmini doğruluğa sahiptir.\n",
    " \n"
   ]
  },
  {
   "cell_type": "markdown",
   "id": "f331d65d",
   "metadata": {},
   "source": [
    " Her algoritma için sonuç örneklerini karşılaştırmanın yararlı bir yolu, her dağıtım için aşlağıdaki gibi bir kutu grafiği oluşturmak ve dağılımları karşılaştırmaktır."
   ]
  },
  {
   "cell_type": "code",
   "execution_count": 17,
   "id": "b4a2e2d5",
   "metadata": {},
   "outputs": [
    {
     "data": {
      "image/png": "[encoded data removed]",
      "text/plain": [
       "<Figure size 432x288 with 1 Axes>"
      ]
     },
     "metadata": {
      "needs_background": "light"
     },
     "output_type": "display_data"
    }
   ],
   "source": [
    "# Algoritmalari Karsilastirma\n",
    "pyplot.boxplot(sonuclar, labels=names)\n",
    "pyplot.title(\"Algortima Karşılaştırması\")\n",
    "pyplot.show()"
   ]
  },
  {
   "cell_type": "markdown",
   "id": "75c1e121",
   "metadata": {},
   "source": [
    "Önceki bölümlerde SVM'nin en doğru model olduğunu göstermekte idi. Bu modeli son model olarak kullanalım."
   ]
  },
  {
   "cell_type": "code",
   "execution_count": null,
   "id": "0dbeec11",
   "metadata": {},
   "outputs": [],
   "source": []
  },
  {
   "cell_type": "code",
   "execution_count": 20,
   "id": "3b1d78cb",
   "metadata": {},
   "outputs": [],
   "source": [
    "# Tahminler Yapma\n",
    "model = SVC(gamma=\"auto\")\n",
    "model.fit(X_egitim, Y_egitim)\n",
    "tahminler = model.predict(X_validasyon)"
   ]
  },
  {
   "cell_type": "code",
   "execution_count": 21,
   "id": "7bd3f6f4",
   "metadata": {},
   "outputs": [
    {
     "name": "stdout",
     "output_type": "stream",
     "text": [
      "0.9666666666666667\n",
      "[[11  0  0]\n",
      " [ 0 12  1]\n",
      " [ 0  0  6]]\n",
      "                 precision    recall  f1-score   support\n",
      "\n",
      "    Iris-setosa       1.00      1.00      1.00        11\n",
      "Iris-versicolor       1.00      0.92      0.96        13\n",
      " Iris-virginica       0.86      1.00      0.92         6\n",
      "\n",
      "       accuracy                           0.97        30\n",
      "      macro avg       0.95      0.97      0.96        30\n",
      "   weighted avg       0.97      0.97      0.97        30\n",
      "\n"
     ]
    }
   ],
   "source": [
    "# Model Doğruluğu\n",
    "print(accuracy_score(Y_validasyon, tahminler))\n",
    "print(confusion_matrix(Y_validasyon, tahminler))\n",
    "print(classification_report(Y_validasyon, tahminler))"
   ]
  },
  {
   "cell_type": "markdown",
   "id": "05e9ca0a",
   "metadata": {},
   "source": [
    "Yorum: Doğruluk 0.966'dır. Karışıklık matrisi(confusion_matrix), yapılan hataların bir göstergesini sağlar.\n",
    "Sınıflandırma raporu, hassasiyet, gerçek pozitif oranı, f1 skoru ve destek değerleri için mükemmele yakın değerler sağlar."
   ]
  },
  {
   "cell_type": "code",
   "execution_count": null,
   "id": "1b7600f4",
   "metadata": {},
   "outputs": [],
   "source": []
  }
 ],
 "metadata": {
  "kernelspec": {
   "display_name": "Python 3 (ipykernel)",
   "language": "python",
   "name": "python3"
  },
  "language_info": {
   "codemirror_mode": {
    "name": "ipython",
    "version": 3
   },
   "file_extension": ".py",
   "mimetype": "text/x-python",
   "name": "python",
   "nbconvert_exporter": "python",
   "pygments_lexer": "ipython3",
   "version": "3.9.7"
  }
 },
 "nbformat": 4,
 "nbformat_minor": 5
}
