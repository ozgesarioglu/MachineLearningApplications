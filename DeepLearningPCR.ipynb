{
 "cells": [
  {
   "cell_type": "markdown",
   "id": "e78d7450",
   "metadata": {},
   "source": [
    "### PCR Test Sonucunu Yapay Sinir Ağları ile Test Etme"
   ]
  },
  {
   "cell_type": "markdown",
   "id": "de4336c5",
   "metadata": {},
   "source": [
    "Problem: Pcr test sonucu verilen 14 kişinin 7 farklı hastalık belirtileri var ya da yok olarak verilmiştir. Gizli katmansız yapay sinir ağı kurarak yeni hastalık belirtileri bilinen kişilerin Pcr test sonucunu tahmin edelim.\n",
    "\n",
    "6 input, 1 output ve gizli katmansız yapay sinir ağları yapısında ağırlıklar 0.1, 0.1, 0.1, 0.3, 0.15,0.25 olarak girilmiştir."
   ]
  },
  {
   "cell_type": "code",
   "execution_count": 3,
   "id": "6633a3d6",
   "metadata": {},
   "outputs": [],
   "source": [
    "import numpy as np\n",
    "input_ozellikleri = np.array([[1,1,1,1,0,1],[1,0,1,1,1,1],[1,1,0,1,1,1],\n",
    "                            [0,1,0,1,0,1],[0,0,0,0,1,1],[0,0,1,0,0,0],\n",
    "                            [1,1,0,1,1,1],[1,0,0,0,0,1],[0,1,0,0,0,1],\n",
    "                            [0,1,1,1,1,1],[0,0,1,1,1,1],[1,1,0,0,0,1],\n",
    "                            [1,1,1,1,1,1],[1,0,0,1,0,0]])"
   ]
  },
  {
   "cell_type": "code",
   "execution_count": 4,
   "id": "498b662a",
   "metadata": {},
   "outputs": [
    {
     "name": "stdout",
     "output_type": "stream",
     "text": [
      "(14, 6)\n"
     ]
    },
    {
     "data": {
      "text/plain": [
       "array([[1, 1, 1, 1, 0, 1],\n",
       "       [1, 0, 1, 1, 1, 1],\n",
       "       [1, 1, 0, 1, 1, 1],\n",
       "       [0, 1, 0, 1, 0, 1],\n",
       "       [0, 0, 0, 0, 1, 1],\n",
       "       [0, 0, 1, 0, 0, 0],\n",
       "       [1, 1, 0, 1, 1, 1],\n",
       "       [1, 0, 0, 0, 0, 1],\n",
       "       [0, 1, 0, 0, 0, 1],\n",
       "       [0, 1, 1, 1, 1, 1],\n",
       "       [0, 0, 1, 1, 1, 1],\n",
       "       [1, 1, 0, 0, 0, 1],\n",
       "       [1, 1, 1, 1, 1, 1],\n",
       "       [1, 0, 0, 1, 0, 0]])"
      ]
     },
     "execution_count": 4,
     "metadata": {},
     "output_type": "execute_result"
    }
   ],
   "source": [
    "print(input_ozellikleri.shape)\n",
    "input_ozellikleri"
   ]
  },
  {
   "cell_type": "code",
   "execution_count": 5,
   "id": "54ca78a5",
   "metadata": {},
   "outputs": [],
   "source": [
    "# Hedef Output Tanimlama\n",
    "hedef_output = np.array([[1,1,1,0,0,0,1,0,0,1,1,0,1,0]])"
   ]
  },
  {
   "cell_type": "code",
   "execution_count": 6,
   "id": "b831e2a4",
   "metadata": {
    "scrolled": true
   },
   "outputs": [
    {
     "name": "stdout",
     "output_type": "stream",
     "text": [
      "(14, 1)\n",
      "[[1]\n",
      " [1]\n",
      " [1]\n",
      " [0]\n",
      " [0]\n",
      " [0]\n",
      " [1]\n",
      " [0]\n",
      " [0]\n",
      " [1]\n",
      " [1]\n",
      " [0]\n",
      " [1]\n",
      " [0]]\n"
     ]
    }
   ],
   "source": [
    "# Hedef Degişkeni Vektore Donusturme\n",
    "import numpy as np\n",
    "hedef_output = hedef_output.reshape(14,1)\n",
    "print(hedef_output.shape)\n",
    "print(hedef_output)"
   ]
  },
  {
   "cell_type": "code",
   "execution_count": null,
   "id": "a4089a2f",
   "metadata": {},
   "outputs": [],
   "source": []
  },
  {
   "cell_type": "code",
   "execution_count": 7,
   "id": "b03c7674",
   "metadata": {},
   "outputs": [
    {
     "name": "stdout",
     "output_type": "stream",
     "text": [
      "(6, 1)\n",
      "[[0.1 ]\n",
      " [0.1 ]\n",
      " [0.1 ]\n",
      " [0.3 ]\n",
      " [0.15]\n",
      " [0.25]]\n"
     ]
    }
   ],
   "source": [
    "# Agirliklari Tanimlama\n",
    "agirliklar = np.array([[0.1],[0.1],[0.1],[0.3],[0.15],[0.25]])\n",
    "print(agirliklar.shape)\n",
    "print(agirliklar)"
   ]
  },
  {
   "cell_type": "code",
   "execution_count": null,
   "id": "3a202372",
   "metadata": {},
   "outputs": [],
   "source": []
  },
  {
   "cell_type": "code",
   "execution_count": 8,
   "id": "27140000",
   "metadata": {},
   "outputs": [],
   "source": [
    "# Sigmoid Fonk.\n",
    "def  sigmoid(x):\n",
    "    return 1/(1+np.exp(-x))\n",
    "# Sigmoid fonk. türevi\n",
    "def sigmoid_der(x):\n",
    "    return sigmoid(x)*(1-sigmoid(x))"
   ]
  },
  {
   "cell_type": "code",
   "execution_count": 9,
   "id": "542b5b6d",
   "metadata": {},
   "outputs": [],
   "source": [
    "# Yanlilik Agirligi\n",
    "yanlilik = 0.3\n",
    "#Ogrenme Orani\n",
    "lr = 0.05"
   ]
  },
  {
   "cell_type": "code",
   "execution_count": null,
   "id": "bdc6129d",
   "metadata": {},
   "outputs": [],
   "source": []
  },
  {
   "cell_type": "code",
   "execution_count": null,
   "id": "ae412c5f",
   "metadata": {},
   "outputs": [],
   "source": [
    "# Sinir Aglari Yapisi\n",
    "# Kodları 10000 defa calistirma\n",
    "for epoch in range(10000):\n",
    "    inputlar = input_ozellikleri\n",
    "    \n",
    "    #İleri Besleme input\n",
    "    tahmin_input = np.dot(inputlar, agirliklar) + yanlilik\n",
    "    \n",
    "    #output\n",
    "    tahmin_output = sigmoid(tahmin_input)\n",
    "    \n",
    "    #Geri yayilim\n",
    "    #Hatayi hesaplama\n",
    "    hata = tahmin_output - hedef_output\n",
    "    x = hata.sum()\n",
    "    print(x)\n",
    "\n",
    "   #Turevi Hesaplama\n",
    "    dcost_dpred = hata\n",
    "    dpred_dz = sigmoid_der(tahmin_output)\n",
    "    \n",
    "    # Kismi Turevleri Hesaplama\n",
    "    z_delta = dcost_dpred * dpred_dz\n",
    "    \n",
    "    # 3.dereceden kısmi turevleri hesaplama\n",
    "    inputlar = input_ozellikleri.T\n",
    "    agirliklar -= lr * np.dot(inputlar, z_delta)\n",
    "    \n",
    "    # Yanlilik Agirlik Degeri Guncelleme\n",
    "    for i in z_delta:\n",
    "        yanlilik -= lr * i\n",
    "\n"
   ]
  },
  {
   "cell_type": "code",
   "execution_count": null,
   "id": "a2058bcb",
   "metadata": {},
   "outputs": [],
   "source": []
  },
  {
   "cell_type": "code",
   "execution_count": 11,
   "id": "bc1d4eee",
   "metadata": {},
   "outputs": [
    {
     "name": "stdout",
     "output_type": "stream",
     "text": [
      "[[2.81750758e+00]\n",
      " [2.86138730e+00]\n",
      " [5.81378253e+00]\n",
      " [3.63433841e+00]\n",
      " [6.23859052e+00]\n",
      " [5.29082798e-03]]\n"
     ]
    }
   ],
   "source": [
    "# Tahmin Agirliklari ve Yanliligi Yazdirma\n",
    "print(agirliklar)"
   ]
  },
  {
   "cell_type": "code",
   "execution_count": 12,
   "id": "c4fe7ec0",
   "metadata": {},
   "outputs": [
    {
     "name": "stdout",
     "output_type": "stream",
     "text": [
      "[-10.81421645]\n"
     ]
    }
   ],
   "source": [
    "print(yanlilik)"
   ]
  },
  {
   "cell_type": "code",
   "execution_count": null,
   "id": "334d4fb7",
   "metadata": {},
   "outputs": [],
   "source": []
  },
  {
   "cell_type": "markdown",
   "id": "55f29348",
   "metadata": {},
   "source": [
    "Model kurulduktan sonra yeni özellik değerleri girilen PCR test sonuçları tahmin edilebilir."
   ]
  },
  {
   "cell_type": "code",
   "execution_count": 13,
   "id": "24b740b0",
   "metadata": {},
   "outputs": [
    {
     "name": "stdout",
     "output_type": "stream",
     "text": [
      "[0.86778457]\n"
     ]
    }
   ],
   "source": [
    "# Yeni inputlar girme\n",
    "yeni_ozellikler = np.array([1,0,0,1,1,1])\n",
    "\n",
    "# İlk adim\n",
    "tahmin1 = np.dot(yeni_ozellikler, agirliklar) + yanlilik\n",
    "\n",
    "# İkinci adim\n",
    "tahmin2 = sigmoid(tahmin1)\n",
    "\n",
    "#Sonuc tahmini yazdirma\n",
    "print(tahmin2)"
   ]
  },
  {
   "cell_type": "markdown",
   "id": "598ff955",
   "metadata": {},
   "source": [
    "Yorum: Olasılık 0.9061 > 0.5 olduğundan tahmin 1  olarak yani pozitif olarak sınıflandırılır."
   ]
  },
  {
   "cell_type": "code",
   "execution_count": null,
   "id": "494f79c7",
   "metadata": {},
   "outputs": [],
   "source": []
  },
  {
   "cell_type": "code",
   "execution_count": 14,
   "id": "3c1fb848",
   "metadata": {},
   "outputs": [
    {
     "name": "stdout",
     "output_type": "stream",
     "text": [
      "[0.2817097]\n"
     ]
    }
   ],
   "source": [
    "# Yeni inputlar girme\n",
    "yeni_ozellikler = np.array([0,0,0,1,1,1])\n",
    "\n",
    "# İlk adim\n",
    "tahmin1 = np.dot(yeni_ozellikler, agirliklar) + yanlilik\n",
    "\n",
    "# İkinci adim\n",
    "tahmin2 = sigmoid(tahmin1)\n",
    "\n",
    "#Sonuc tahmini yazdirma\n",
    "print(tahmin2)"
   ]
  },
  {
   "cell_type": "markdown",
   "id": "165b286c",
   "metadata": {},
   "source": [
    "Yorum: Olasılık değeri 0.2114 < 0.5 olduğundan tahmin 0 olarak yani negatif olarak sınıflandırılır."
   ]
  },
  {
   "cell_type": "code",
   "execution_count": null,
   "id": "e1c44488",
   "metadata": {},
   "outputs": [],
   "source": []
  },
  {
   "cell_type": "code",
   "execution_count": 15,
   "id": "c6672651",
   "metadata": {},
   "outputs": [
    {
     "name": "stdout",
     "output_type": "stream",
     "text": [
      "[0.99954524]\n"
     ]
    }
   ],
   "source": [
    "# Yeni inputlar girme\n",
    "yeni_ozellikler = np.array([1,0,1,1,1,1])\n",
    "\n",
    "# İlk adim\n",
    "tahmin1 = np.dot(yeni_ozellikler, agirliklar) + yanlilik\n",
    "\n",
    "# İkinci adim\n",
    "tahmin2 = sigmoid(tahmin1)\n",
    "\n",
    "#Sonuc tahmini yazdirma\n",
    "print(tahmin2)"
   ]
  },
  {
   "cell_type": "markdown",
   "id": "33fa9f79",
   "metadata": {},
   "source": [
    "Yorum: Olasılık değeri 0.9999 > 0.5 olduğundan tahmin 1 olarak yani pozitif olarak sınıflandırılır."
   ]
  },
  {
   "cell_type": "code",
   "execution_count": null,
   "id": "5d557ba3",
   "metadata": {},
   "outputs": [],
   "source": []
  }
 ],
 "metadata": {
  "kernelspec": {
   "display_name": "Python 3 (ipykernel)",
   "language": "python",
   "name": "python3"
  },
  "language_info": {
   "codemirror_mode": {
    "name": "ipython",
    "version": 3
   },
   "file_extension": ".py",
   "mimetype": "text/x-python",
   "name": "python",
   "nbconvert_exporter": "python",
   "pygments_lexer": "ipython3",
   "version": "3.9.7"
  }
 },
 "nbformat": 4,
 "nbformat_minor": 5
}
